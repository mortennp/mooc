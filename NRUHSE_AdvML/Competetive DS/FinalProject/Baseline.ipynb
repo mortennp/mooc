{
 "cells": [
  {
   "cell_type": "code",
   "execution_count": 1,
   "metadata": {},
   "outputs": [],
   "source": [
    "import os\n",
    "import numpy as np\n",
    "import pandas as pd\n",
    "#import matplotlib as mpl\n",
    "import matplotlib.pyplot as plt\n",
    "#import matplotlib.dates as mdates\n",
    "%matplotlib inline "
   ]
  },
  {
   "cell_type": "code",
   "execution_count": 2,
   "metadata": {},
   "outputs": [],
   "source": [
    "DATA_FOLDER = './data/'\n",
    "\n",
    "train = pd.read_csv(os.path.join(DATA_FOLDER, 'sales_train.csv.gz'))\n",
    "test = pd.read_csv(os.path.join(DATA_FOLDER, 'test.csv.gz'))\n",
    "items = pd.read_csv(os.path.join(DATA_FOLDER, 'items.csv'))\n",
    "categories = pd.read_csv(os.path.join(DATA_FOLDER, 'item_categories.csv'))\n",
    "shops = pd.read_csv(os.path.join(DATA_FOLDER, 'shops.csv'))"
   ]
  },
  {
   "cell_type": "markdown",
   "metadata": {},
   "source": [
    "train.date = pd.to_datetime(train.date, format='%d.%m.%Y')\n",
    "print(train.date.min(), train.date.max())"
   ]
  },
  {
   "cell_type": "code",
   "execution_count": 3,
   "metadata": {},
   "outputs": [],
   "source": [
    "train.item_cnt_day = train.item_cnt_day.clip(0, 20)"
   ]
  },
  {
   "cell_type": "code",
   "execution_count": 4,
   "metadata": {},
   "outputs": [
    {
     "data": {
      "text/html": [
       "<div>\n",
       "<style scoped>\n",
       "    .dataframe tbody tr th:only-of-type {\n",
       "        vertical-align: middle;\n",
       "    }\n",
       "\n",
       "    .dataframe tbody tr th {\n",
       "        vertical-align: top;\n",
       "    }\n",
       "\n",
       "    .dataframe thead th {\n",
       "        text-align: right;\n",
       "    }\n",
       "</style>\n",
       "<table border=\"1\" class=\"dataframe\">\n",
       "  <thead>\n",
       "    <tr style=\"text-align: right;\">\n",
       "      <th></th>\n",
       "      <th>date_block_num</th>\n",
       "      <th>shop_id</th>\n",
       "      <th>item_id</th>\n",
       "      <th>item_cnt_day</th>\n",
       "    </tr>\n",
       "  </thead>\n",
       "  <tbody>\n",
       "    <tr>\n",
       "      <th>0</th>\n",
       "      <td>0</td>\n",
       "      <td>0</td>\n",
       "      <td>32</td>\n",
       "      <td>6.0</td>\n",
       "    </tr>\n",
       "    <tr>\n",
       "      <th>1</th>\n",
       "      <td>0</td>\n",
       "      <td>0</td>\n",
       "      <td>33</td>\n",
       "      <td>3.0</td>\n",
       "    </tr>\n",
       "    <tr>\n",
       "      <th>2</th>\n",
       "      <td>0</td>\n",
       "      <td>0</td>\n",
       "      <td>35</td>\n",
       "      <td>1.0</td>\n",
       "    </tr>\n",
       "    <tr>\n",
       "      <th>3</th>\n",
       "      <td>0</td>\n",
       "      <td>0</td>\n",
       "      <td>43</td>\n",
       "      <td>1.0</td>\n",
       "    </tr>\n",
       "    <tr>\n",
       "      <th>4</th>\n",
       "      <td>0</td>\n",
       "      <td>0</td>\n",
       "      <td>51</td>\n",
       "      <td>2.0</td>\n",
       "    </tr>\n",
       "  </tbody>\n",
       "</table>\n",
       "</div>"
      ],
      "text/plain": [
       "   date_block_num  shop_id  item_id  item_cnt_day\n",
       "0               0        0       32           6.0\n",
       "1               0        0       33           3.0\n",
       "2               0        0       35           1.0\n",
       "3               0        0       43           1.0\n",
       "4               0        0       51           2.0"
      ]
     },
     "execution_count": 4,
     "metadata": {},
     "output_type": "execute_result"
    }
   ],
   "source": [
    "train_rup = train.groupby(['date_block_num', 'shop_id', 'item_id']).sum().loc[:, 'item_cnt_day'].reset_index().sort_values(['date_block_num', 'shop_id', 'item_id'])\n",
    "train_rup.head()"
   ]
  },
  {
   "cell_type": "code",
   "execution_count": 5,
   "metadata": {},
   "outputs": [
    {
     "name": "stdout",
     "output_type": "stream",
     "text": [
      "[[    0     0    32]\n",
      " [    0     0    33]\n",
      " [    0     0    35]\n",
      " ...\n",
      " [   33    59 22091]\n",
      " [   33    59 22100]\n",
      " [   33    59 22102]]\n"
     ]
    }
   ],
   "source": [
    "target_col = 'item_cnt_day'\n",
    "X = train_rup.loc[:, train_rup.columns != target_col].values\n",
    "print(X) #X.head()"
   ]
  },
  {
   "cell_type": "code",
   "execution_count": 6,
   "metadata": {},
   "outputs": [
    {
     "name": "stdout",
     "output_type": "stream",
     "text": [
      "[6. 3. 1. ... 1. 1. 1.]\n"
     ]
    }
   ],
   "source": [
    "y = train_rup.loc[:, [target_col]].values.ravel()\n",
    "print(y) #y.head()"
   ]
  },
  {
   "cell_type": "code",
   "execution_count": 7,
   "metadata": {},
   "outputs": [
    {
     "name": "stdout",
     "output_type": "stream",
     "text": [
      "KFold(n_splits=2, random_state=None, shuffle=True)\n"
     ]
    }
   ],
   "source": [
    "from sklearn.model_selection import KFold\n",
    "cv = KFold(n_splits=2, shuffle=True)\n",
    "print(cv)"
   ]
  },
  {
   "cell_type": "code",
   "execution_count": 8,
   "metadata": {},
   "outputs": [],
   "source": [
    "from sklearn.ensemble import GradientBoostingRegressor\n",
    "est = GradientBoostingRegressor(n_estimators=100, max_depth=5, loss='ls', verbose=1)"
   ]
  },
  {
   "cell_type": "code",
   "execution_count": 9,
   "metadata": {},
   "outputs": [
    {
     "name": "stdout",
     "output_type": "stream",
     "text": [
      "[0.31622777 0.17782794 0.1       ]\n"
     ]
    }
   ],
   "source": [
    "lr = 1 / np.logspace(0.0, 1.0, num=5)[2:]\n",
    "print(lr)"
   ]
  },
  {
   "cell_type": "code",
   "execution_count": 10,
   "metadata": {},
   "outputs": [],
   "source": [
    "from sklearn.model_selection import GridSearchCV\n",
    "param_grid = {'learning_rate':lr}\n",
    "gs = GridSearchCV(est, param_grid, cv=cv, refit=True)\n",
    "#gs.fit(X, y)"
   ]
  },
  {
   "cell_type": "code",
   "execution_count": 11,
   "metadata": {},
   "outputs": [],
   "source": [
    "from sklearn.preprocessing import StandardScaler\n",
    "from sklearn.pipeline import Pipeline\n",
    "pipe = Pipeline(steps=[('Scaling', StandardScaler()), ('Search', gs)])"
   ]
  },
  {
   "cell_type": "code",
   "execution_count": 12,
   "metadata": {},
   "outputs": [
    {
     "name": "stderr",
     "output_type": "stream",
     "text": [
      "/home/mortennp/anaconda3/envs/AdvML3_6/lib/python3.6/site-packages/sklearn/utils/validation.py:595: DataConversionWarning: Data with input dtype int64 was converted to float64 by StandardScaler.\n",
      "  warnings.warn(msg, DataConversionWarning)\n",
      "/home/mortennp/anaconda3/envs/AdvML3_6/lib/python3.6/site-packages/sklearn/utils/validation.py:595: DataConversionWarning: Data with input dtype int64 was converted to float64 by StandardScaler.\n",
      "  warnings.warn(msg, DataConversionWarning)\n"
     ]
    },
    {
     "name": "stdout",
     "output_type": "stream",
     "text": [
      "      Iter       Train Loss   Remaining Time \n",
      "         1          32.7282           43.12s\n",
      "         2          27.8949           43.76s\n",
      "         3          25.5790           44.42s\n",
      "         4          24.2516           43.80s\n",
      "         5          23.0785           42.58s\n",
      "         6          23.0038           41.64s\n",
      "         7          22.3664           41.05s\n",
      "         8          22.3174           40.56s\n",
      "         9          22.1944           40.49s\n",
      "        10          21.7955           39.82s\n",
      "        20          19.9044           35.04s\n",
      "        30          18.7927           30.74s\n",
      "        40          17.3065           26.55s\n",
      "        50          16.4488           22.18s\n",
      "        60          15.8904           17.77s\n",
      "        70          15.5279           13.37s\n",
      "        80          14.7190            8.91s\n",
      "        90          14.3936            4.45s\n",
      "       100          13.8641            0.00s\n",
      "      Iter       Train Loss   Remaining Time \n",
      "         1          32.9148           45.53s\n",
      "         2          29.1034           44.63s\n",
      "         3          25.6403           43.89s\n",
      "         4          23.8393           43.20s\n",
      "         5          22.8521           43.51s\n",
      "         6          22.0843           44.13s\n",
      "         7          21.9457           43.55s\n",
      "         8          21.7000           42.70s\n",
      "         9          21.4548           42.05s\n",
      "        10          21.0458           41.24s\n",
      "        20          18.8317           36.97s\n",
      "        30          16.8533           32.19s\n",
      "        40          15.5565           27.59s\n",
      "        50          14.9730           22.97s\n",
      "        60          14.2698           18.26s\n",
      "        70          13.7474           13.60s\n",
      "        80          13.3819            9.06s\n",
      "        90          13.1211            4.51s\n",
      "       100          12.8272            0.00s\n",
      "      Iter       Train Loss   Remaining Time \n",
      "         1          36.4382           43.59s\n",
      "         2          32.3449           42.99s\n",
      "         3          29.6417           42.68s\n",
      "         4          27.7557           43.15s\n",
      "         5          26.2674           42.45s\n",
      "         6          25.3913           41.77s\n",
      "         7          24.5709           41.52s\n",
      "         8          23.8519           41.05s\n",
      "         9          23.3502           40.59s\n",
      "        10          22.9600           40.35s\n",
      "        20          21.8085           35.67s\n",
      "        30          20.8239           31.30s\n",
      "        40          19.8718           26.90s\n",
      "        50          19.1779           22.48s\n",
      "        60          18.6410           17.91s\n",
      "        70          18.2331           13.50s\n",
      "        80          17.8076            9.05s\n",
      "        90          17.5040            4.56s\n",
      "       100          16.8043            0.00s\n",
      "      Iter       Train Loss   Remaining Time \n",
      "         1          35.9566           45.86s\n",
      "         2          32.3322           47.39s\n",
      "         3          29.6247           46.04s\n",
      "         4          27.2830           45.15s\n",
      "         5          25.8456           44.18s\n",
      "         6          24.6890           44.27s\n",
      "         7          23.7207           43.98s\n",
      "         8          23.0594           44.13s\n",
      "         9          22.4589           43.50s\n",
      "        10          22.1284           42.74s\n",
      "        20          20.1861           37.31s\n",
      "        30          19.3961           32.16s\n",
      "        40          18.8663           27.30s\n",
      "        50          18.2077           22.61s\n",
      "        60          17.3776           17.96s\n",
      "        70          16.9549           13.44s\n",
      "        80          16.2876            8.94s\n",
      "        90          16.0446            4.46s\n",
      "       100          15.6259            0.00s\n",
      "      Iter       Train Loss   Remaining Time \n",
      "         1          38.8241           43.37s\n",
      "         2          36.0854           43.18s\n",
      "         3          33.8387           43.93s\n",
      "         4          32.0408           43.33s\n",
      "         5          30.4358           43.39s\n",
      "         6          29.3935           43.22s\n",
      "         7          28.2555           42.95s\n",
      "         8          27.2958           42.33s\n",
      "         9          26.6719           41.69s\n",
      "        10          26.1323           40.99s\n",
      "        20          22.3956           35.78s\n",
      "        30          21.7646           31.24s\n",
      "        40          21.1550           26.60s\n",
      "        50          20.5945           22.07s\n",
      "        60          20.2765           17.67s\n",
      "        70          19.7086           13.27s\n",
      "        80          19.2798            8.84s\n",
      "        90          18.7515            4.42s\n",
      "       100          18.3655            0.00s\n",
      "      Iter       Train Loss   Remaining Time \n",
      "         1          37.9128           45.74s\n",
      "         2          35.4350           44.38s\n",
      "         3          33.1000           43.28s\n",
      "         4          31.1774           43.48s\n",
      "         5          29.7048           42.47s\n",
      "         6          28.3399           41.89s\n",
      "         7          27.2865           41.38s\n",
      "         8          26.3484           40.70s\n",
      "         9          25.5920           40.29s\n",
      "        10          24.8369           39.65s\n",
      "        20          21.9690           35.36s\n",
      "        30          20.4104           30.98s\n",
      "        40          19.9452           26.78s\n",
      "        50          19.3871           22.51s\n",
      "        60          19.0704           18.11s\n",
      "        70          18.6482           13.61s\n",
      "        80          18.4104            9.07s\n",
      "        90          18.0509            4.54s\n",
      "       100          17.7238            0.00s\n",
      "      Iter       Train Loss   Remaining Time \n",
      "         1          32.2487            1.55m\n",
      "         2          27.8425            1.55m\n",
      "         3          25.3884            1.53m\n",
      "         4          24.2397            1.48m\n",
      "         5          23.2833            1.46m\n",
      "         6          22.6303            1.47m\n",
      "         7          22.3312            1.46m\n",
      "         8          22.1008            1.45m\n",
      "         9          21.8780            1.45m\n",
      "        10          21.7308            1.43m\n",
      "        20          19.0182            1.26m\n",
      "        30          18.1727            1.09m\n",
      "        40          17.2345           55.59s\n",
      "        50          16.5312           46.09s\n",
      "        60          16.1257           36.77s\n",
      "        70          15.4748           27.66s\n",
      "        80          15.1747           18.47s\n",
      "        90          14.9031            9.26s\n",
      "       100          14.2024            0.00s\n"
     ]
    },
    {
     "name": "stderr",
     "output_type": "stream",
     "text": [
      "/home/mortennp/anaconda3/envs/AdvML3_6/lib/python3.6/site-packages/sklearn/utils/deprecation.py:125: FutureWarning: You are accessing a training score ('split0_train_score'), which will not be available by default any more in 0.21. If you need training scores, please set return_train_score=True\n",
      "  warnings.warn(*warn_args, **warn_kwargs)\n",
      "/home/mortennp/anaconda3/envs/AdvML3_6/lib/python3.6/site-packages/sklearn/utils/deprecation.py:125: FutureWarning: You are accessing a training score ('split1_train_score'), which will not be available by default any more in 0.21. If you need training scores, please set return_train_score=True\n",
      "  warnings.warn(*warn_args, **warn_kwargs)\n",
      "/home/mortennp/anaconda3/envs/AdvML3_6/lib/python3.6/site-packages/sklearn/utils/deprecation.py:125: FutureWarning: You are accessing a training score ('mean_train_score'), which will not be available by default any more in 0.21. If you need training scores, please set return_train_score=True\n",
      "  warnings.warn(*warn_args, **warn_kwargs)\n",
      "/home/mortennp/anaconda3/envs/AdvML3_6/lib/python3.6/site-packages/sklearn/utils/deprecation.py:125: FutureWarning: You are accessing a training score ('std_train_score'), which will not be available by default any more in 0.21. If you need training scores, please set return_train_score=True\n",
      "  warnings.warn(*warn_args, **warn_kwargs)\n"
     ]
    },
    {
     "data": {
      "text/plain": [
       "{'mean_fit_time': array([44.973943  , 45.23663175, 44.99232519]),\n",
       " 'std_fit_time': array([0.45523071, 0.55264199, 0.66651404]),\n",
       " 'mean_score_time': array([0.91878235, 0.90744555, 0.92343569]),\n",
       " 'std_score_time': array([0.00355089, 0.01255524, 0.00204515]),\n",
       " 'param_learning_rate': masked_array(data=[0.31622776601683794, 0.17782794100389226, 0.1],\n",
       "              mask=[False, False, False],\n",
       "        fill_value='?',\n",
       "             dtype=object),\n",
       " 'params': [{'learning_rate': 0.31622776601683794},\n",
       "  {'learning_rate': 0.17782794100389226},\n",
       "  {'learning_rate': 0.1}],\n",
       " 'split0_test_score': array([0.64010933, 0.57705732, 0.54332943]),\n",
       " 'split1_test_score': array([0.62043135, 0.57179562, 0.52488354]),\n",
       " 'mean_test_score': array([0.63027034, 0.57442647, 0.53410648]),\n",
       " 'std_test_score': array([0.00983899, 0.00263085, 0.00922294]),\n",
       " 'rank_test_score': array([1, 2, 3], dtype=int32),\n",
       " 'split0_train_score': array([0.6715157 , 0.60185301, 0.56486235]),\n",
       " 'split1_train_score': array([0.6847244 , 0.61593738, 0.56437305]),\n",
       " 'mean_train_score': array([0.67812005, 0.60889519, 0.5646177 ]),\n",
       " 'std_train_score': array([0.00660435, 0.00704218, 0.00024465])}"
      ]
     },
     "execution_count": 12,
     "metadata": {},
     "output_type": "execute_result"
    }
   ],
   "source": [
    "pipe.fit(X,y)"
   ]
  },
  {
   "cell_type": "markdown",
   "metadata": {},
   "source": [
    "from sklearn.model_selection import cross_val_score\n",
    "scores = cross_val_score(est, X, y, cv=cv)\n",
    "print(scores)\n",
    "#print(\"Accuracy: %0.2f (+/- %0.2f)\" % (scores.mean(), scores.std() * 2))"
   ]
  },
  {
   "cell_type": "code",
   "execution_count": 15,
   "metadata": {},
   "outputs": [
    {
     "name": "stdout",
     "output_type": "stream",
     "text": [
      "[0.63027034 0.57442647 0.53410648]\n",
      "[{'learning_rate': 0.31622776601683794}, {'learning_rate': 0.17782794100389226}, {'learning_rate': 0.1}]\n"
     ]
    }
   ],
   "source": [
    "print(gs.cv_results_['mean_test_score'])\n",
    "print(gs.cv_results_['params'])\n",
    "#gs.best_estimator_"
   ]
  },
  {
   "cell_type": "code",
   "execution_count": 16,
   "metadata": {},
   "outputs": [
    {
     "name": "stderr",
     "output_type": "stream",
     "text": [
      "/home/mortennp/anaconda3/envs/AdvML3_6/lib/python3.6/site-packages/sklearn/utils/validation.py:595: DataConversionWarning: Data with input dtype int64 was converted to float64 by StandardScaler.\n",
      "  warnings.warn(msg, DataConversionWarning)\n"
     ]
    },
    {
     "name": "stdout",
     "output_type": "stream",
     "text": [
      "14.202447613074613\n",
      "3.76861348682438\n"
     ]
    }
   ],
   "source": [
    "from sklearn.metrics import mean_squared_error\n",
    "y_pred = pipe.predict(X)\n",
    "mse = mean_squared_error(y, y_pred)\n",
    "print(mse)\n",
    "print(np.sqrt(mse))"
   ]
  },
  {
   "cell_type": "code",
   "execution_count": 19,
   "metadata": {},
   "outputs": [
    {
     "data": {
      "text/html": [
       "<div>\n",
       "<style scoped>\n",
       "    .dataframe tbody tr th:only-of-type {\n",
       "        vertical-align: middle;\n",
       "    }\n",
       "\n",
       "    .dataframe tbody tr th {\n",
       "        vertical-align: top;\n",
       "    }\n",
       "\n",
       "    .dataframe thead th {\n",
       "        text-align: right;\n",
       "    }\n",
       "</style>\n",
       "<table border=\"1\" class=\"dataframe\">\n",
       "  <thead>\n",
       "    <tr style=\"text-align: right;\">\n",
       "      <th></th>\n",
       "      <th>shop_id</th>\n",
       "      <th>item_id</th>\n",
       "      <th>date_block_num</th>\n",
       "    </tr>\n",
       "  </thead>\n",
       "  <tbody>\n",
       "    <tr>\n",
       "      <th>0</th>\n",
       "      <td>5</td>\n",
       "      <td>5037</td>\n",
       "      <td>34</td>\n",
       "    </tr>\n",
       "    <tr>\n",
       "      <th>1</th>\n",
       "      <td>5</td>\n",
       "      <td>5320</td>\n",
       "      <td>34</td>\n",
       "    </tr>\n",
       "    <tr>\n",
       "      <th>2</th>\n",
       "      <td>5</td>\n",
       "      <td>5233</td>\n",
       "      <td>34</td>\n",
       "    </tr>\n",
       "    <tr>\n",
       "      <th>3</th>\n",
       "      <td>5</td>\n",
       "      <td>5232</td>\n",
       "      <td>34</td>\n",
       "    </tr>\n",
       "    <tr>\n",
       "      <th>4</th>\n",
       "      <td>5</td>\n",
       "      <td>5268</td>\n",
       "      <td>34</td>\n",
       "    </tr>\n",
       "  </tbody>\n",
       "</table>\n",
       "</div>"
      ],
      "text/plain": [
       "   shop_id  item_id  date_block_num\n",
       "0        5     5037              34\n",
       "1        5     5320              34\n",
       "2        5     5233              34\n",
       "3        5     5232              34\n",
       "4        5     5268              34"
      ]
     },
     "execution_count": 19,
     "metadata": {},
     "output_type": "execute_result"
    }
   ],
   "source": [
    "X_test = test.assign(date_block_num=train.date_block_num.max()+1).drop(columns=['ID'])\n",
    "X_test.head()"
   ]
  },
  {
   "cell_type": "code",
   "execution_count": 23,
   "metadata": {},
   "outputs": [
    {
     "name": "stderr",
     "output_type": "stream",
     "text": [
      "/home/mortennp/anaconda3/envs/AdvML3_6/lib/python3.6/site-packages/sklearn/pipeline.py:331: DataConversionWarning: Data with input dtype int64 were all converted to float64 by StandardScaler.\n",
      "  Xt = transform.transform(Xt)\n"
     ]
    },
    {
     "name": "stdout",
     "output_type": "stream",
     "text": [
      "[0.85784778 0.85784778 0.85784778 ... 0.62710467 0.62710467 0.62710467]\n"
     ]
    }
   ],
   "source": [
    "y_pred_test = pipe.predict(X_test)\n",
    "print(y_pred_test)"
   ]
  },
  {
   "cell_type": "code",
   "execution_count": 26,
   "metadata": {},
   "outputs": [
    {
     "data": {
      "text/html": [
       "<div>\n",
       "<style scoped>\n",
       "    .dataframe tbody tr th:only-of-type {\n",
       "        vertical-align: middle;\n",
       "    }\n",
       "\n",
       "    .dataframe tbody tr th {\n",
       "        vertical-align: top;\n",
       "    }\n",
       "\n",
       "    .dataframe thead th {\n",
       "        text-align: right;\n",
       "    }\n",
       "</style>\n",
       "<table border=\"1\" class=\"dataframe\">\n",
       "  <thead>\n",
       "    <tr style=\"text-align: right;\">\n",
       "      <th></th>\n",
       "      <th>item_cnt_month</th>\n",
       "    </tr>\n",
       "  </thead>\n",
       "  <tbody>\n",
       "    <tr>\n",
       "      <th>count</th>\n",
       "      <td>214200.000000</td>\n",
       "    </tr>\n",
       "    <tr>\n",
       "      <th>mean</th>\n",
       "      <td>0.706271</td>\n",
       "    </tr>\n",
       "    <tr>\n",
       "      <th>std</th>\n",
       "      <td>0.125218</td>\n",
       "    </tr>\n",
       "    <tr>\n",
       "      <th>min</th>\n",
       "      <td>-0.015541</td>\n",
       "    </tr>\n",
       "    <tr>\n",
       "      <th>25%</th>\n",
       "      <td>0.627105</td>\n",
       "    </tr>\n",
       "    <tr>\n",
       "      <th>50%</th>\n",
       "      <td>0.627105</td>\n",
       "    </tr>\n",
       "    <tr>\n",
       "      <th>75%</th>\n",
       "      <td>0.775692</td>\n",
       "    </tr>\n",
       "    <tr>\n",
       "      <th>max</th>\n",
       "      <td>3.242039</td>\n",
       "    </tr>\n",
       "  </tbody>\n",
       "</table>\n",
       "</div>"
      ],
      "text/plain": [
       "       item_cnt_month\n",
       "count   214200.000000\n",
       "mean         0.706271\n",
       "std          0.125218\n",
       "min         -0.015541\n",
       "25%          0.627105\n",
       "50%          0.627105\n",
       "75%          0.775692\n",
       "max          3.242039"
      ]
     },
     "execution_count": 26,
     "metadata": {},
     "output_type": "execute_result"
    }
   ],
   "source": [
    "submission = test.assign(item_cnt_month=y_pred_test)[['item_cnt_month']]\n",
    "submission.describe()"
   ]
  },
  {
   "cell_type": "code",
   "execution_count": 29,
   "metadata": {},
   "outputs": [
    {
     "data": {
      "text/html": [
       "<div>\n",
       "<style scoped>\n",
       "    .dataframe tbody tr th:only-of-type {\n",
       "        vertical-align: middle;\n",
       "    }\n",
       "\n",
       "    .dataframe tbody tr th {\n",
       "        vertical-align: top;\n",
       "    }\n",
       "\n",
       "    .dataframe thead th {\n",
       "        text-align: right;\n",
       "    }\n",
       "</style>\n",
       "<table border=\"1\" class=\"dataframe\">\n",
       "  <thead>\n",
       "    <tr style=\"text-align: right;\">\n",
       "      <th></th>\n",
       "      <th>item_cnt_month</th>\n",
       "    </tr>\n",
       "  </thead>\n",
       "  <tbody>\n",
       "    <tr>\n",
       "      <th>0</th>\n",
       "      <td>0.857848</td>\n",
       "    </tr>\n",
       "    <tr>\n",
       "      <th>1</th>\n",
       "      <td>0.857848</td>\n",
       "    </tr>\n",
       "    <tr>\n",
       "      <th>2</th>\n",
       "      <td>0.857848</td>\n",
       "    </tr>\n",
       "    <tr>\n",
       "      <th>3</th>\n",
       "      <td>0.857848</td>\n",
       "    </tr>\n",
       "    <tr>\n",
       "      <th>4</th>\n",
       "      <td>0.857848</td>\n",
       "    </tr>\n",
       "  </tbody>\n",
       "</table>\n",
       "</div>"
      ],
      "text/plain": [
       "   item_cnt_month\n",
       "0        0.857848\n",
       "1        0.857848\n",
       "2        0.857848\n",
       "3        0.857848\n",
       "4        0.857848"
      ]
     },
     "execution_count": 29,
     "metadata": {},
     "output_type": "execute_result"
    }
   ],
   "source": [
    "submission.head()"
   ]
  },
  {
   "cell_type": "code",
   "execution_count": 35,
   "metadata": {},
   "outputs": [],
   "source": [
    "submission.to_csv('submission.csv', index_label='ID') #header=['ID', 'item_cnt_month'])"
   ]
  },
  {
   "cell_type": "code",
   "execution_count": 36,
   "metadata": {},
   "outputs": [
    {
     "name": "stdout",
     "output_type": "stream",
     "text": [
      "ID,item_cnt_month\r\n",
      "0,0.8578477837496452\r\n",
      "1,0.8578477837496452\r\n",
      "2,0.8578477837496452\r\n",
      "3,0.8578477837496452\r\n",
      "4,0.8578477837496452\r\n",
      "5,0.8578477837496452\r\n",
      "6,0.8578477837496452\r\n",
      "7,0.8578477837496452\r\n",
      "8,0.8578477837496452\r\n"
     ]
    }
   ],
   "source": [
    "!head submission.csv"
   ]
  },
  {
   "cell_type": "code",
   "execution_count": 37,
   "metadata": {},
   "outputs": [
    {
     "name": "stdout",
     "output_type": "stream",
     "text": [
      "Baseline.ipynb\tdata  EDA.ipynb  submission.csv.gz\r\n"
     ]
    }
   ],
   "source": [
    "!gzip submission.csv\n",
    "!ls"
   ]
  },
  {
   "cell_type": "markdown",
   "metadata": {},
   "source": [
    "0.3 is best learning rate so far.\n",
    "\n",
    "[\n",
    " (split1_train_idxs, split1_test_idxs),\n",
    " (split2_train_idxs, split2_test_idxs),\n",
    " (split3_train_idxs, split3_test_idxs),\n",
    " ...\n",
    "]\n",
    "\n",
    "\"Submissions are evaluated by root mean squared error (RMSE). True target values are clipped into [0,20] range.\"\n",
    "\n",
    "and\n",
    "\n",
    "\"For each id in the test set, you must predict a total number of sales.\"\n",
    "\n",
    "and\n",
    "\n",
    "\"Submission is for date_block_num 34\"\n",
    "\n",
    "and\n",
    "\n",
    "\"\n",
    "My CV strategy is 5-fold moving window:\n",
    "\n",
    "fold 1: Train on month 0 to 32 and validate on 33\n",
    "fold 2: Train on month 0 to 31 and validate on 32\n",
    "…\n",
    "fold 5: Train on month 0 to 28 and validate on 29\n",
    "\"\n",
    "\n",
    "and\n",
    "\n",
    "- mean encodings\n",
    "- lag\n",
    "- text extraction on item and category names"
   ]
  },
  {
   "cell_type": "code",
   "execution_count": null,
   "metadata": {},
   "outputs": [],
   "source": []
  }
 ],
 "metadata": {
  "kernelspec": {
   "display_name": "Python 3",
   "language": "python",
   "name": "python3"
  },
  "language_info": {
   "codemirror_mode": {
    "name": "ipython",
    "version": 3
   },
   "file_extension": ".py",
   "mimetype": "text/x-python",
   "name": "python",
   "nbconvert_exporter": "python",
   "pygments_lexer": "ipython3",
   "version": "3.6.7"
  }
 },
 "nbformat": 4,
 "nbformat_minor": 2
}
