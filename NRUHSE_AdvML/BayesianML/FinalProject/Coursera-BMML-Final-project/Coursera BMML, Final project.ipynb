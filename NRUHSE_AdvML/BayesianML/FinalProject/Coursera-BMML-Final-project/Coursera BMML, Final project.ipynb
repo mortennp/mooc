{
 "cells": [
  {
   "cell_type": "markdown",
   "metadata": {},
   "source": [
    "# Final project: Finding the suspect"
   ]
  },
  {
   "cell_type": "markdown",
   "metadata": {},
   "source": [
    "<a href=\"https://en.wikipedia.org/wiki/Facial_composite.\">Facial composits</a> are widely used in forensics to generate images of suspects. Since victim or witness usually isn't good at drawing, computer-aided generation is applied to reconstruct the face attacker. One of the most commonly used techniques are evolutionary systems that compose the final face from many predefined parts.\n",
    "\n",
    "In this project we will try to implement an app for crating facial composite that will be able to construct desired faces without explicitly providing databases of templates. We will apply Variational Autoencoders and Gaussian processes for this task.\n",
    "\n",
    "Final project is developed in a way that you can apply learned techniques to real project yourself. We will include main guidelines and hints, but great part of the project will need your creativity and experience from previous assignments."
   ]
  },
  {
   "cell_type": "markdown",
   "metadata": {},
   "source": [
    "### Installation\n",
    "\n",
    "We will need ```tensorflow```, ```keras```, ```GPy```, ```GPyOpt```, ```h5py``` libraries for this assignment."
   ]
  },
  {
   "cell_type": "code",
   "execution_count": 4,
   "metadata": {},
   "outputs": [
    {
     "data": {
      "text/plain": [
       "'/home/mortennp/anaconda3/envs/AdvML3_6/bin/python'"
      ]
     },
     "execution_count": 4,
     "metadata": {},
     "output_type": "execute_result"
    }
   ],
   "source": [
    "import sys\n",
    "sys.prefix\n",
    "sys.executable"
   ]
  },
  {
   "cell_type": "code",
   "execution_count": 2,
   "metadata": {},
   "outputs": [
    {
     "name": "stdout",
     "output_type": "stream",
     "text": [
      "Solving environment: done\n",
      "\n",
      "## Package Plan ##\n",
      "\n",
      "  environment location: /home/mortennp/anaconda3/envs/AdvML3_6\n",
      "\n",
      "  added / updated specs: \n",
      "    - tensorflow\n",
      "\n",
      "\n",
      "The following packages will be downloaded:\n",
      "\n",
      "    package                    |            build\n",
      "    ---------------------------|-----------------\n",
      "    termcolor-1.1.0            |           py36_1           7 KB\n",
      "    h5py-2.8.0                 |   py36h989c5e5_3         1.1 MB\n",
      "    mkl_random-1.0.1           |   py36h4414c95_1         373 KB\n",
      "    markdown-3.0.1             |           py36_0         107 KB\n",
      "    numpy-base-1.15.4          |   py36h81de0dd_0         4.2 MB\n",
      "    grpcio-1.14.1              |   py36hf8bcb03_0         1.0 MB\n",
      "    c-ares-1.15.0              |       h7b6447c_1          98 KB\n",
      "    tensorflow-base-1.11.0     |mkl_py36h3c3e929_0        83.4 MB\n",
      "    werkzeug-0.14.1            |           py36_0         423 KB\n",
      "    protobuf-3.6.1             |   py36he6710b0_0         616 KB\n",
      "    _tflow_select-2.3.0        |              mkl           2 KB\n",
      "    scipy-1.1.0                |   py36hfa4b5c9_1        18.0 MB\n",
      "    numpy-1.15.4               |   py36h1d66e8a_0          35 KB\n",
      "    tensorboard-1.11.0         |   py36hf484d3e_0         3.1 MB\n",
      "    gast-0.2.0                 |           py36_0          15 KB\n",
      "    mkl_fft-1.0.6              |   py36h7dd41cf_0         150 KB\n",
      "    keras-applications-1.0.6   |           py36_0          49 KB\n",
      "    astor-0.7.1                |           py36_0          43 KB\n",
      "    libprotobuf-3.6.1          |       hd408876_0         4.1 MB\n",
      "    keras-preprocessing-1.0.5  |           py36_0          52 KB\n",
      "    absl-py-0.6.1              |           py36_0         152 KB\n",
      "    tensorflow-1.11.0          |mkl_py36ha6f0bda_0           4 KB\n",
      "    ------------------------------------------------------------\n",
      "                                           Total:       116.9 MB\n",
      "\n",
      "The following NEW packages will be INSTALLED:\n",
      "\n",
      "    _tflow_select:       2.3.0-mkl                \n",
      "    absl-py:             0.6.1-py36_0             \n",
      "    astor:               0.7.1-py36_0             \n",
      "    blas:                1.0-mkl                  \n",
      "    c-ares:              1.15.0-h7b6447c_1        \n",
      "    gast:                0.2.0-py36_0             \n",
      "    grpcio:              1.14.1-py36hf8bcb03_0    \n",
      "    h5py:                2.8.0-py36h989c5e5_3     \n",
      "    hdf5:                1.10.2-hba1933b_1        \n",
      "    intel-openmp:        2019.0-118               \n",
      "    keras-applications:  1.0.6-py36_0             \n",
      "    keras-preprocessing: 1.0.5-py36_0             \n",
      "    libgfortran-ng:      7.3.0-hdf63c60_0         \n",
      "    libprotobuf:         3.6.1-hd408876_0         \n",
      "    markdown:            3.0.1-py36_0             \n",
      "    mkl:                 2019.0-118               \n",
      "    mkl_fft:             1.0.6-py36h7dd41cf_0     \n",
      "    mkl_random:          1.0.1-py36h4414c95_1     \n",
      "    numpy:               1.15.4-py36h1d66e8a_0    \n",
      "    numpy-base:          1.15.4-py36h81de0dd_0    \n",
      "    protobuf:            3.6.1-py36he6710b0_0     \n",
      "    scipy:               1.1.0-py36hfa4b5c9_1     \n",
      "    tensorboard:         1.11.0-py36hf484d3e_0    \n",
      "    tensorflow:          1.11.0-mkl_py36ha6f0bda_0\n",
      "    tensorflow-base:     1.11.0-mkl_py36h3c3e929_0\n",
      "    termcolor:           1.1.0-py36_1             \n",
      "    werkzeug:            0.14.1-py36_0            \n",
      "\n",
      "\n",
      "Downloading and Extracting Packages\n",
      "termcolor-1.1.0      | 7 KB      | ##################################### | 100% \n",
      "h5py-2.8.0           | 1.1 MB    | ##################################### | 100% \n",
      "mkl_random-1.0.1     | 373 KB    | ##################################### | 100% \n",
      "markdown-3.0.1       | 107 KB    | ##################################### | 100% \n",
      "numpy-base-1.15.4    | 4.2 MB    | ##################################### | 100% \n",
      "grpcio-1.14.1        | 1.0 MB    | ##################################### | 100% \n",
      "c-ares-1.15.0        | 98 KB     | ##################################### | 100% \n",
      "tensorflow-base-1.11 | 83.4 MB   | ##################################### | 100% \n",
      "werkzeug-0.14.1      | 423 KB    | ##################################### | 100% \n",
      "protobuf-3.6.1       | 616 KB    | ##################################### | 100% \n",
      "_tflow_select-2.3.0  | 2 KB      | ##################################### | 100% \n",
      "scipy-1.1.0          | 18.0 MB   | ##################################### | 100% \n",
      "numpy-1.15.4         | 35 KB     | ##################################### | 100% \n",
      "tensorboard-1.11.0   | 3.1 MB    | ##################################### | 100% \n",
      "gast-0.2.0           | 15 KB     | ##################################### | 100% \n",
      "mkl_fft-1.0.6        | 150 KB    | ##################################### | 100% \n",
      "keras-applications-1 | 49 KB     | ##################################### | 100% \n",
      "astor-0.7.1          | 43 KB     | ##################################### | 100% \n",
      "libprotobuf-3.6.1    | 4.1 MB    | ##################################### | 100% \n",
      "keras-preprocessing- | 52 KB     | ##################################### | 100% \n",
      "absl-py-0.6.1        | 152 KB    | ##################################### | 100% \n",
      "tensorflow-1.11.0    | 4 KB      | ##################################### | 100% \n",
      "Preparing transaction: done\n",
      "Verifying transaction: done\n",
      "Executing transaction: done\n"
     ]
    }
   ],
   "source": [
    "#!conda install --yes --prefix {sys.prefix} tensorflow"
   ]
  },
  {
   "cell_type": "code",
   "execution_count": 3,
   "metadata": {},
   "outputs": [
    {
     "name": "stdout",
     "output_type": "stream",
     "text": [
      "Solving environment: done\n",
      "\n",
      "## Package Plan ##\n",
      "\n",
      "  environment location: /home/mortennp/anaconda3/envs/AdvML3_6\n",
      "\n",
      "  added / updated specs: \n",
      "    - keras\n",
      "\n",
      "\n",
      "The following packages will be downloaded:\n",
      "\n",
      "    package                    |            build\n",
      "    ---------------------------|-----------------\n",
      "    pyyaml-3.13                |   py36h14c3975_0         178 KB\n",
      "    keras-base-2.2.4           |           py36_0         457 KB\n",
      "    keras-2.2.4                |                0           5 KB\n",
      "    ------------------------------------------------------------\n",
      "                                           Total:         640 KB\n",
      "\n",
      "The following NEW packages will be INSTALLED:\n",
      "\n",
      "    keras:      2.2.4-0            \n",
      "    keras-base: 2.2.4-py36_0       \n",
      "    pyyaml:     3.13-py36h14c3975_0\n",
      "    yaml:       0.1.7-had09818_2   \n",
      "\n",
      "\n",
      "Downloading and Extracting Packages\n",
      "pyyaml-3.13          | 178 KB    | ##################################### | 100% \n",
      "keras-base-2.2.4     | 457 KB    | ##################################### | 100% \n",
      "keras-2.2.4          | 5 KB      | ##################################### | 100% \n",
      "Preparing transaction: done\n",
      "Verifying transaction: done\n",
      "Executing transaction: done\n"
     ]
    }
   ],
   "source": [
    "#!conda install --yes --prefix {sys.prefix} keras"
   ]
  },
  {
   "cell_type": "code",
   "execution_count": 6,
   "metadata": {},
   "outputs": [
    {
     "name": "stdout",
     "output_type": "stream",
     "text": [
      "Collecting GPy\n",
      "\u001b[?25l  Downloading https://files.pythonhosted.org/packages/98/7d/e55ffc3b16b68e8b50ccecacec56715bcf49d5c2f204f5ba60374d419611/GPy-1.9.6.tar.gz (873kB)\n",
      "\u001b[K    100% |████████████████████████████████| 880kB 6.9MB/s ta 0:00:011\n",
      "\u001b[?25hRequirement already satisfied: numpy>=1.7 in /home/mortennp/anaconda3/envs/AdvML3_6/lib/python3.6/site-packages (from GPy) (1.15.4)\n",
      "Requirement already satisfied: scipy>=0.16 in /home/mortennp/anaconda3/envs/AdvML3_6/lib/python3.6/site-packages (from GPy) (1.1.0)\n",
      "Requirement already satisfied: six in /home/mortennp/anaconda3/envs/AdvML3_6/lib/python3.6/site-packages (from GPy) (1.11.0)\n",
      "Collecting paramz>=0.9.0 (from GPy)\n",
      "\u001b[?25l  Downloading https://files.pythonhosted.org/packages/fd/78/b0f0164a32518bfd3b98cb2e149b7a4d5504d13fb503b31a6c59b958ed18/paramz-0.9.4.tar.gz (70kB)\n",
      "\u001b[K    100% |████████████████████████████████| 71kB 4.7MB/s ta 0:00:011\n",
      "\u001b[?25hRequirement already satisfied: decorator>=4.0.10 in /home/mortennp/anaconda3/envs/AdvML3_6/lib/python3.6/site-packages (from paramz>=0.9.0->GPy) (4.3.0)\n",
      "Building wheels for collected packages: GPy, paramz\n",
      "  Running setup.py bdist_wheel for GPy ... \u001b[?25ldone\n",
      "\u001b[?25h  Stored in directory: /home/mortennp/.cache/pip/wheels/97/82/1d/32a361e1ff2b4d9129a60343831dd99cdc74440e2db1c55264\n",
      "  Running setup.py bdist_wheel for paramz ... \u001b[?25ldone\n",
      "\u001b[?25h  Stored in directory: /home/mortennp/.cache/pip/wheels/a9/fc/74/3bbd263c43ed98d67343df24cebf0a0ee34afee40d769fda9c\n",
      "Successfully built GPy paramz\n",
      "Installing collected packages: paramz, GPy\n",
      "Successfully installed GPy-1.9.6 paramz-0.9.4\n"
     ]
    }
   ],
   "source": [
    "#!{sys.executable} -m pip install GPy"
   ]
  },
  {
   "cell_type": "code",
   "execution_count": 7,
   "metadata": {},
   "outputs": [
    {
     "name": "stdout",
     "output_type": "stream",
     "text": [
      "Collecting gpyopt\n",
      "\u001b[?25l  Downloading https://files.pythonhosted.org/packages/9c/40/ca8f080d74d9f4e29069faa944fcfb083e8693b6daaba0f1e4bc65c88650/GPyOpt-1.2.5.tar.gz (55kB)\n",
      "\u001b[K    100% |████████████████████████████████| 61kB 2.8MB/s ta 0:00:01\n",
      "\u001b[?25hRequirement already satisfied: numpy>=1.7 in /home/mortennp/anaconda3/envs/AdvML3_6/lib/python3.6/site-packages (from gpyopt) (1.15.4)\n",
      "Requirement already satisfied: scipy>=0.16 in /home/mortennp/anaconda3/envs/AdvML3_6/lib/python3.6/site-packages (from gpyopt) (1.1.0)\n",
      "Requirement already satisfied: GPy>=1.8 in /home/mortennp/anaconda3/envs/AdvML3_6/lib/python3.6/site-packages (from gpyopt) (1.9.6)\n",
      "Requirement already satisfied: six in /home/mortennp/anaconda3/envs/AdvML3_6/lib/python3.6/site-packages (from GPy>=1.8->gpyopt) (1.11.0)\n",
      "Requirement already satisfied: paramz>=0.9.0 in /home/mortennp/anaconda3/envs/AdvML3_6/lib/python3.6/site-packages (from GPy>=1.8->gpyopt) (0.9.4)\n",
      "Requirement already satisfied: decorator>=4.0.10 in /home/mortennp/anaconda3/envs/AdvML3_6/lib/python3.6/site-packages (from paramz>=0.9.0->GPy>=1.8->gpyopt) (4.3.0)\n",
      "Building wheels for collected packages: gpyopt\n",
      "  Running setup.py bdist_wheel for gpyopt ... \u001b[?25ldone\n",
      "\u001b[?25h  Stored in directory: /home/mortennp/.cache/pip/wheels/33/1d/87/dc02440831ba986b1547dd11a7dcd44e893b0527083066d869\n",
      "Successfully built gpyopt\n",
      "Installing collected packages: gpyopt\n",
      "Successfully installed gpyopt-1.2.5\n"
     ]
    }
   ],
   "source": [
    "#!{sys.executable} -m pip install gpyopt"
   ]
  },
  {
   "cell_type": "code",
   "execution_count": 8,
   "metadata": {},
   "outputs": [
    {
     "name": "stdout",
     "output_type": "stream",
     "text": [
      "Solving environment: done\n",
      "\n",
      "# All requested packages already installed.\n",
      "\n"
     ]
    }
   ],
   "source": [
    "#!conda install --yes --prefix {sys.prefix} h5py"
   ]
  },
  {
   "cell_type": "code",
   "execution_count": 10,
   "metadata": {},
   "outputs": [
    {
     "name": "stdout",
     "output_type": "stream",
     "text": [
      "Solving environment: done\n",
      "\n",
      "## Package Plan ##\n",
      "\n",
      "  environment location: /home/mortennp/anaconda3/envs/AdvML3_6\n",
      "\n",
      "  added / updated specs: \n",
      "    - matplotlib\n",
      "\n",
      "\n",
      "The following packages will be downloaded:\n",
      "\n",
      "    package                    |            build\n",
      "    ---------------------------|-----------------\n",
      "    pyparsing-2.3.0            |           py36_0         101 KB\n",
      "    pyqt-5.9.2                 |   py36h05f1152_2         5.6 MB\n",
      "    libpng-1.6.35              |       hbc83047_0         335 KB\n",
      "    matplotlib-3.0.1           |   py36h5429711_0         6.6 MB\n",
      "    python-3.6.6               |       h6e4f718_2        28.9 MB\n",
      "    sip-4.19.8                 |   py36hf484d3e_0         290 KB\n",
      "    grpcio-1.14.1              |   py36h9ba97e2_0         1.0 MB\n",
      "    cycler-0.10.0              |           py36_0          13 KB\n",
      "    pytz-2018.7                |           py36_0         250 KB\n",
      "    kiwisolver-1.0.1           |   py36hf484d3e_0          83 KB\n",
      "    ------------------------------------------------------------\n",
      "                                           Total:        43.1 MB\n",
      "\n",
      "The following NEW packages will be INSTALLED:\n",
      "\n",
      "    cycler:           0.10.0-py36_0        \n",
      "    dbus:             1.13.2-h714fa37_1    \n",
      "    expat:            2.2.6-he6710b0_0     \n",
      "    fontconfig:       2.13.0-h9420a91_0    \n",
      "    freetype:         2.9.1-h8a8886c_1     \n",
      "    glib:             2.56.2-hd408876_0    \n",
      "    gst-plugins-base: 1.14.0-hbbd80ab_1    \n",
      "    gstreamer:        1.14.0-hb453b48_1    \n",
      "    icu:              58.2-h9c2bf20_1      \n",
      "    jpeg:             9b-h024ee3a_2        \n",
      "    kiwisolver:       1.0.1-py36hf484d3e_0 \n",
      "    libpng:           1.6.35-hbc83047_0    \n",
      "    libuuid:          1.0.3-h1bed415_2     \n",
      "    libxcb:           1.13-h1bed415_1      \n",
      "    libxml2:          2.9.8-h26e45fe_1     \n",
      "    matplotlib:       3.0.1-py36h5429711_0 \n",
      "    pcre:             8.42-h439df22_0      \n",
      "    pyparsing:        2.3.0-py36_0         \n",
      "    pyqt:             5.9.2-py36h05f1152_2 \n",
      "    pytz:             2018.7-py36_0        \n",
      "    qt:               5.9.6-h8703b6f_2     \n",
      "    sip:              4.19.8-py36hf484d3e_0\n",
      "\n",
      "The following packages will be UPDATED:\n",
      "\n",
      "    grpcio:           1.14.1-py36hf8bcb03_0 --> 1.14.1-py36h9ba97e2_0\n",
      "\n",
      "The following packages will be DOWNGRADED:\n",
      "\n",
      "    openssl:          1.1.1-h7b6447c_0      --> 1.0.2p-h14c3975_0    \n",
      "    python:           3.6.7-h0371630_0      --> 3.6.6-h6e4f718_2     \n",
      "\n",
      "\n",
      "Downloading and Extracting Packages\n",
      "pyparsing-2.3.0      | 101 KB    | ##################################### | 100% \n",
      "pyqt-5.9.2           | 5.6 MB    | ##################################### | 100% \n",
      "libpng-1.6.35        | 335 KB    | ##################################### | 100% \n",
      "matplotlib-3.0.1     | 6.6 MB    | ##################################### | 100% \n",
      "python-3.6.6         | 28.9 MB   | ##################################### | 100% \n",
      "sip-4.19.8           | 290 KB    | ##################################### | 100% \n",
      "grpcio-1.14.1        | 1.0 MB    | ##################################### | 100% \n",
      "cycler-0.10.0        | 13 KB     | ##################################### | 100% \n",
      "pytz-2018.7          | 250 KB    | ##################################### | 100% \n",
      "kiwisolver-1.0.1     | 83 KB     | ##################################### | 100% \n",
      "Preparing transaction: done\n",
      "Verifying transaction: done\n",
      "Executing transaction: done\n"
     ]
    }
   ],
   "source": [
    "!conda install --yes --prefix {sys.prefix} matplotlib"
   ]
  },
  {
   "cell_type": "code",
   "execution_count": 11,
   "metadata": {},
   "outputs": [
    {
     "name": "stderr",
     "output_type": "stream",
     "text": [
      "Using TensorFlow backend.\n"
     ]
    }
   ],
   "source": [
    "import numpy as np\n",
    "import matplotlib.pyplot as plt\n",
    "from IPython.display import clear_output\n",
    "import tensorflow as tf\n",
    "import GPy\n",
    "import GPyOpt\n",
    "import keras\n",
    "from keras.layers import Input, Dense, Lambda, InputLayer, concatenate, Activation, Flatten, Reshape\n",
    "from keras.layers.normalization import BatchNormalization\n",
    "from keras.layers.convolutional import Conv2D, Deconv2D\n",
    "from keras.losses import MSE\n",
    "from keras.models import Model, Sequential\n",
    "from keras import backend as K\n",
    "from keras import metrics\n",
    "from keras.datasets import mnist\n",
    "from keras.utils import np_utils\n",
    "from tensorflow.python.framework import ops\n",
    "from tensorflow.python.framework import dtypes\n",
    "import utils\n",
    "import os\n",
    "%matplotlib inline"
   ]
  },
  {
   "cell_type": "markdown",
   "metadata": {},
   "source": [
    "### Grading\n",
    "As some of the final project tasks can be graded only visually, final assignment is graded using peer-review procedure. You will be asked to upload your Jupyter notebook on the web and attach link to it in the submission form. Detailed submission instructions and grading criterions are written in the end of this notebook."
   ]
  },
  {
   "cell_type": "markdown",
   "metadata": {},
   "source": [
    "## Model description\n",
    "We will first train variational autoencoder on face images to compress them to low dimension. One important feature of VAE is that constructed latent space is in some sence continous. That means, that we can safely move along the space and any point along our path will be reconstructed into a valid face.\n",
    "\n",
    "Using this continuous latent space we can use bayesian optimization to maximise some similarity function between person's face in victim/witness's memory and a face reconstructed from current point of latent space. Bayesian optimization is an appropriate choice here, since people start to forget detales about the attacker after they were shown many similar photos. Because of this, we want to reconstruct the photo with the smallest possible number of trials."
   ]
  },
  {
   "cell_type": "markdown",
   "metadata": {},
   "source": [
    "## Generating faces"
   ]
  },
  {
   "cell_type": "markdown",
   "metadata": {},
   "source": [
    "For this task you will need to use some database of face images. There are multiple datasets available on the web that you can use: for example, <a href=\"http://mmlab.ie.cuhk.edu.hk/projects/CelebA.html\">CelebA</a> or <a href=\"http://vis-www.cs.umass.edu/lfw/\">Labeled Faces in the Wild</a>. We used Alligned & Cropped version of CelebA that you can find <a href=\"https://www.dropbox.com/sh/8oqt9vytwxb3s4r/AADSNUu0bseoCKuxuI5ZeTl1a/Img?dl=0&preview=img_align_celeba.zip\">here</a> to pretrain VAE model for you. See optional part of final project if you whish to train VAE on your own."
   ]
  },
  {
   "cell_type": "markdown",
   "metadata": {},
   "source": [
    "<b>Task 1:</b> Train VAE on faces dataset and draw some samples from it. (You can use code from previous assignmnets. You may also want to use convolutional encoders and decoders as well as tuning hyperparameters)"
   ]
  },
  {
   "cell_type": "code",
   "execution_count": 12,
   "metadata": {},
   "outputs": [],
   "source": [
    "sess = tf.InteractiveSession()\n",
    "K.set_session(sess)"
   ]
  },
  {
   "cell_type": "code",
   "execution_count": 13,
   "metadata": {},
   "outputs": [],
   "source": [
    "latent_size = 8"
   ]
  },
  {
   "cell_type": "code",
   "execution_count": 14,
   "metadata": {
    "scrolled": false
   },
   "outputs": [],
   "source": [
    "vae, encoder, decoder = utils.create_vae(batch_size=128, latent=latent_size)\n",
    "sess.run(tf.global_variables_initializer())\n",
    "vae.load_weights('CelebA_VAE_small_8.h5')"
   ]
  },
  {
   "cell_type": "code",
   "execution_count": 15,
   "metadata": {},
   "outputs": [],
   "source": [
    "K.set_learning_phase(False)"
   ]
  },
  {
   "cell_type": "code",
   "execution_count": 16,
   "metadata": {},
   "outputs": [],
   "source": [
    "latent_placeholder = tf.placeholder(tf.float32, (1, latent_size))\n",
    "decode = decoder(latent_placeholder)"
   ]
  },
  {
   "cell_type": "markdown",
   "metadata": {},
   "source": [
    "#### GRADED 1 (3 points): Draw 25 samples from trained VAE model\n",
    "As first part of assignment, you need to become familiar with trained model. For all tasks you will only need a decoder to reconstruct samples froma a latent space.\n",
    "\n",
    "To decode latent variable, you need to run ```decode``` operation defined above with random samples from standard normal distribution."
   ]
  },
  {
   "cell_type": "code",
   "execution_count": null,
   "metadata": {
    "collapsed": true
   },
   "outputs": [],
   "source": [
    "### TODO: Draw 25 samples from VAE here\n",
    "plt.figure(figsize=(10, 10))\n",
    "for i in range(25):\n",
    "    plt.subplot(5, 5, i+1)\n",
    "    image = ### YOUR CODE HERE\n",
    "    plt.imshow(np.clip(image, 0, 1))\n",
    "    plt.axis('off')"
   ]
  },
  {
   "cell_type": "markdown",
   "metadata": {},
   "source": [
    "## Search procedure"
   ]
  },
  {
   "cell_type": "markdown",
   "metadata": {},
   "source": [
    "Now that we have a way to reconstruct images, we need to set up an optimization procedure to find a person that will be the most similar to the one we are thinking about. To do so, we need to set up some scoring utility. Imagine that you want to generate an image of Brad Pitt. You start with a small number of random samples, say 5, and rank them according their similarity to your vision of Brad Pitt: 1 for the worst, 5 for the best. You then rate image by image using GPyOpt that works in a latent space of VAE. For the new image you need to somehow assign a real number that will show how good this image is. The simple idea is to ask a user to compare a new image with previous images (along with their scores). User then enters score to a current image.\n",
    "\n",
    "The proposed scoring has a lot of drawbacks, and you may feel free to come up with new ones: e.g. showing user 9 different images and asking a user which image looks the \"best\".\n",
    "\n",
    "Note that the goal of this task is for you to implement a new algorithm by yourself. You may try different techniques for your task and select one that works the best."
   ]
  },
  {
   "cell_type": "markdown",
   "metadata": {},
   "source": [
    "<b>Task 2:</b> Implement person search using Bayesian optimization. (You can use code from the assignment on Gaussian Processes)\n",
    "\n",
    "Note: try varying ```acquisition_type``` and ```acquisition_par``` parameters."
   ]
  },
  {
   "cell_type": "code",
   "execution_count": null,
   "metadata": {
    "collapsed": true
   },
   "outputs": [],
   "source": [
    "class FacialComposit:\n",
    "    def __init__(self, decoder, latent_size):\n",
    "        self.latent_size = latent_size\n",
    "        self.latent_placeholder = tf.placeholder(tf.float32, (1, latent_size))\n",
    "        self.decode = decoder(self.latent_placeholder)\n",
    "        self.samples = None\n",
    "        self.images = None\n",
    "        self.rating = None\n",
    "\n",
    "    def _get_image(self, latent):\n",
    "        img = sess.run(self.decode, \n",
    "                       feed_dict={self.latent_placeholder: latent[None, :]})[0]\n",
    "        img = np.clip(img, 0, 1)\n",
    "        return img\n",
    "\n",
    "    @staticmethod\n",
    "    def _show_images(images, titles):\n",
    "        assert len(images) == len(titles)\n",
    "        clear_output()\n",
    "        plt.figure(figsize=(3*len(images), 3))\n",
    "        n = len(titles)\n",
    "        for i in range(n):\n",
    "            plt.subplot(1, n, i+1)\n",
    "            plt.imshow(images[i])\n",
    "            plt.title(str(titles[i]))\n",
    "            plt.axis('off')\n",
    "        plt.show()\n",
    "\n",
    "    @staticmethod\n",
    "    def _draw_border(image, w=2):\n",
    "        bordred_image = image.copy()\n",
    "        bordred_image[:, :w] = [1, 0, 0]\n",
    "        bordred_image[:, -w:] = [1, 0, 0]\n",
    "        bordred_image[:w, :] = [1, 0, 0]\n",
    "        bordred_image[-w:, :] = [1, 0, 0]\n",
    "        return bordred_image\n",
    "\n",
    "    def query_initial(self, n_start=5, select_top=None):\n",
    "        '''\n",
    "        Creates initial points for Bayesian optimization\n",
    "        Generate *n_start* random images and asks user to rank them.\n",
    "        Gives maximum score to the best image and minimum to the worst.\n",
    "        :param n_start: number of images to rank initialy.\n",
    "        :param select_top: number of images to keep\n",
    "        '''\n",
    "        self.samples = ### YOUR CODE HERE (size: select_top x 64 x 64 x 3)\n",
    "        self.images = ### YOUR CODE HERE (size: select_top x 64 x 64 x 3)\n",
    "        self.rating = ### YOUR CODE HERE (size: select_top)\n",
    "        \n",
    "        ### YOUR CODE:\n",
    "        ### Show user some samples (hint: use self._get_image and input())\n",
    "\n",
    "        # Check that tensor sizes are correct\n",
    "        np.testing.assert_equal(self.rating.shape, [select_top])\n",
    "        np.testing.assert_equal(self.images.shape, [select_top, 64, 64, 3])\n",
    "        np.testing.assert_equal(self.samples.shape, [select_top, self.latent_size])\n",
    "\n",
    "    def evaluate(self, candidate):\n",
    "        '''\n",
    "        Queries candidate vs known image set.\n",
    "        Adds candidate into images pool.\n",
    "        :param candidate: latent vector of size 1xlatent_size\n",
    "        '''\n",
    "        initial_size = len(self.images)\n",
    "        \n",
    "        ### YOUR CODE HERE\n",
    "        ## Show user an image and ask to assign score to it.\n",
    "        ## You may want to show some images to user along with their scores\n",
    "        ## You should also save candidate, corresponding image and rating\n",
    "        \n",
    "        candidate_rating = ### YOUR CODE HERE\n",
    "        \n",
    "        assert len(self.images) == initial_size + 1\n",
    "        assert len(self.rating) == initial_size + 1\n",
    "        assert len(self.samples) == initial_size + 1\n",
    "        return candidate_rating\n",
    "\n",
    "    def optimize(self, n_iter=10, w=4, acquisition_type='MPI', acquisition_par=0.3):\n",
    "        if self.samples is None:\n",
    "            self.query_initial()\n",
    "\n",
    "        bounds = [{'name': 'z_{0:03d}'.format(i),\n",
    "                   'type': 'continuous',\n",
    "                   'domain': (-w, w)} \n",
    "                  for i in range(self.latent_size)]\n",
    "        optimizer = GPyOpt.methods.BayesianOptimization(f=self.evaluate, domain=bounds,\n",
    "                                                        acquisition_type = acquisition_type,\n",
    "                                                        acquisition_par = acquisition_par,\n",
    "                                                        exact_eval=False, # Since we are not sure\n",
    "                                                        model_type='GP',\n",
    "                                                        X=self.samples,\n",
    "                                                        Y=self.rating[:, None],\n",
    "                                                        maximize=True)\n",
    "        optimizer.run_optimization(max_iter=n_iter, eps=-1)\n",
    "\n",
    "    def get_best(self):\n",
    "        index_best = np.argmax(self.rating)\n",
    "        return self.images[index_best]\n",
    "\n",
    "    def draw_best(self, title=''):\n",
    "        index_best = np.argmax(self.rating)\n",
    "        image = self.images[index_best]\n",
    "        plt.imshow(image)\n",
    "        plt.title(title)\n",
    "        plt.axis('off')\n",
    "        plt.show()"
   ]
  },
  {
   "cell_type": "markdown",
   "metadata": {},
   "source": [
    "#### GRADED 2 (3 points):\n",
    "Describe your approach below: How do you assign score to a new image? How do you select reference images to help user assign a new score? What are the limitations of your approach?"
   ]
  },
  {
   "cell_type": "markdown",
   "metadata": {},
   "source": [
    "> Your answer here"
   ]
  },
  {
   "cell_type": "markdown",
   "metadata": {},
   "source": [
    "## Testing your algorithm"
   ]
  },
  {
   "cell_type": "markdown",
   "metadata": {},
   "source": [
    "In the these sections we will apply implemented app to search of different people. Each task will ask you to generate images that will have some property like \"dark hair\" or \"moustache\". You will need to run your search algorithm and provide best found image."
   ]
  },
  {
   "cell_type": "markdown",
   "metadata": {},
   "source": [
    "#### Task 3.1: Finding person with darkest hair (3 points)"
   ]
  },
  {
   "cell_type": "code",
   "execution_count": null,
   "metadata": {
    "collapsed": true
   },
   "outputs": [],
   "source": [
    "composit = FacialComposit(decoder, 8)\n",
    "composit.optimize()"
   ]
  },
  {
   "cell_type": "code",
   "execution_count": null,
   "metadata": {
    "collapsed": true
   },
   "outputs": [],
   "source": [
    "composit.draw_best('Darkest hair')"
   ]
  },
  {
   "cell_type": "markdown",
   "metadata": {},
   "source": [
    "#### Task 3.2. Finding person with the widest smile (3 points)"
   ]
  },
  {
   "cell_type": "code",
   "execution_count": null,
   "metadata": {
    "collapsed": true
   },
   "outputs": [],
   "source": [
    "composit = FacialComposit(decoder, 8)\n",
    "composit.optimize()"
   ]
  },
  {
   "cell_type": "code",
   "execution_count": null,
   "metadata": {
    "collapsed": true
   },
   "outputs": [],
   "source": [
    "composit.draw_best('Widest smile')"
   ]
  },
  {
   "cell_type": "markdown",
   "metadata": {},
   "source": [
    "#### Task 3.3. Finding Daniil Polykovskiy or Alexander Novikov — lecturers of this course (3 points) "
   ]
  },
  {
   "cell_type": "markdown",
   "metadata": {},
   "source": [
    "Note: this task highly depends on a quality of VAE and search algorithm. You may need to restart your search algorithm a few times and start with larget initial set."
   ]
  },
  {
   "cell_type": "code",
   "execution_count": null,
   "metadata": {
    "collapsed": true
   },
   "outputs": [],
   "source": [
    "composit = FacialComposit(decoder, 8)\n",
    "composit.optimize()"
   ]
  },
  {
   "cell_type": "code",
   "execution_count": null,
   "metadata": {
    "collapsed": true
   },
   "outputs": [],
   "source": [
    "composit.draw_best('Lecturer')"
   ]
  },
  {
   "cell_type": "markdown",
   "metadata": {},
   "source": [
    "#### <small>Don't forget to post resulting image of lecturers on the forum ;)</small>"
   ]
  },
  {
   "cell_type": "markdown",
   "metadata": {},
   "source": [
    "#### Task 3.4. Finding specific person (optional, but very cool)"
   ]
  },
  {
   "cell_type": "markdown",
   "metadata": {},
   "source": [
    "Now that you have a good sence of what your algorithm can do, here is an optional assignment for you. Think of a famous person and take look at his/her picture for a minute. Then use your app to create an image of the person you thought of. You can post it in the forum <a href=\"https://www.coursera.org/learn/bayesian-methods-in-machine-learning/discussions/forums/SE06u3rLEeeh0gq4yYKIVA\">Final project: guess who!</a>\n"
   ]
  },
  {
   "cell_type": "code",
   "execution_count": null,
   "metadata": {
    "collapsed": true
   },
   "outputs": [],
   "source": [
    "### Your code here"
   ]
  },
  {
   "cell_type": "markdown",
   "metadata": {},
   "source": [
    "### Submission\n",
    "You should submit an HTML version of your work. To convert your notebook to HTML, press file $\\rightarrow$ download as $\\rightarrow$  HTML (.html). Make sure that resulting html file can be opened when copied to a separate folder (that all of the images are present). You should attach only your html file to the peer review console."
   ]
  },
  {
   "cell_type": "markdown",
   "metadata": {},
   "source": [
    "### Grading criterions"
   ]
  },
  {
   "cell_type": "markdown",
   "metadata": {},
   "source": [
    "#### Task 1 (3 points) [samples from VAE]\n",
    "* 0 points: No results were provided here or provided images were not generated by VAE\n",
    "* 1 point: Provided images poorly resemble faces\n",
    "* 2 points: Provided images look like faces, maybe with some artifacts, but all look the same\n",
    "* 3 points: Provided images look like faces, maybe with some artifacts, and look different"
   ]
  },
  {
   "cell_type": "markdown",
   "metadata": {},
   "source": [
    "#### Task 2 (3 points) [training procedure]\n",
    "* 0 points: No result was provided\n",
    "* 1 point: Some algorithm was proposed, but it does not use Bayesian optimization\n",
    "* 2 points: Algorithm was proposed, but there were no details on some important aspects: how to assign a score to a new image / how to you select a new image / what are the limitations of the approach\n",
    "* 3 points: Algorithm was proposed, all questions in the task were answered"
   ]
  },
  {
   "cell_type": "markdown",
   "metadata": {},
   "source": [
    "#### Tasks 3.1-3.3 (3 points each) [search for person]\n",
    "* 0 points: Nothing was provided\n",
    "* 1 point: Resulting image was provided, but some of the required images (evolution & nearest image) are not provided\n",
    "* 2 points: All images are provided, but resulting image does not have requested property\n",
    "* 3 points: All images are provided, resulting image has required features (long hair / wide smile / looks like lecturer)"
   ]
  },
  {
   "cell_type": "markdown",
   "metadata": {},
   "source": [
    "## Passing grade is 60% (9 points)"
   ]
  }
 ],
 "metadata": {
  "kernelspec": {
   "display_name": "Python 3",
   "language": "python",
   "name": "python3"
  },
  "language_info": {
   "codemirror_mode": {
    "name": "ipython",
    "version": 3
   },
   "file_extension": ".py",
   "mimetype": "text/x-python",
   "name": "python",
   "nbconvert_exporter": "python",
   "pygments_lexer": "ipython3",
   "version": "3.6.7"
  },
  "latex_envs": {
   "bibliofile": "biblio.bib",
   "cite_by": "apalike",
   "current_citInitial": 1,
   "eqLabelWithNumbers": true,
   "eqNumInitial": 0
  }
 },
 "nbformat": 4,
 "nbformat_minor": 2
}
