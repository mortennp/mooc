{
 "cells": [
  {
   "cell_type": "markdown",
   "metadata": {},
   "source": [
    "# Expectation-maximization algorithm"
   ]
  },
  {
   "cell_type": "markdown",
   "metadata": {},
   "source": [
    "In this assignment, we will derive and implement formulas for Gaussian Mixture Model — one of the most commonly used methods for performing soft clustering of the data. "
   ]
  },
  {
   "cell_type": "markdown",
   "metadata": {},
   "source": [
    "### Installation\n",
    "\n",
    "We will need ```numpy```, ```scikit-learn```, ```matplotlib``` libraries for this assignment"
   ]
  },
  {
   "cell_type": "code",
   "execution_count": 1,
   "metadata": {
    "collapsed": false
   },
   "outputs": [
    {
     "name": "stdout",
     "output_type": "stream",
     "text": [
      "Requirement already satisfied (use --upgrade to upgrade): ipdb in /home/mortennp/anaconda/lib/python3.5/site-packages\n",
      "Requirement already satisfied (use --upgrade to upgrade): setuptools in /home/mortennp/anaconda/lib/python3.5/site-packages/setuptools-27.2.0-py3.5.egg (from ipdb)\n",
      "Requirement already satisfied (use --upgrade to upgrade): ipython>=5.0.0; python_version >= \"3.3\" in /home/mortennp/anaconda/lib/python3.5/site-packages (from ipdb)\n",
      "\u001b[33mYou are using pip version 8.1.2, however version 18.1 is available.\n",
      "You should consider upgrading via the 'pip install --upgrade pip' command.\u001b[0m\n"
     ]
    }
   ],
   "source": [
    "!pip install ipdb"
   ]
  },
  {
   "cell_type": "code",
   "execution_count": 2,
   "metadata": {
    "collapsed": false
   },
   "outputs": [],
   "source": [
    "#import pdb\n",
    "from ipdb import set_trace\n",
    "import numpy as np\n",
    "from numpy.linalg import slogdet, det, solve\n",
    "import matplotlib.pyplot as plt\n",
    "import time\n",
    "from sklearn.datasets import load_digits\n",
    "from scipy.stats import multivariate_normal as mvnorm\n",
    "from grader import Grader\n",
    "%matplotlib inline"
   ]
  },
  {
   "cell_type": "markdown",
   "metadata": {},
   "source": [
    "### Grading\n",
    "We will create a grader instance below and use it to collect your answers. Note that these outputs will be stored locally inside grader and will be uploaded to the platform only after running submitting function in the last part of this assignment. If you want to make a partial submission, you can run that cell anytime you want."
   ]
  },
  {
   "cell_type": "code",
   "execution_count": 3,
   "metadata": {
    "collapsed": true
   },
   "outputs": [],
   "source": [
    "grader = Grader()"
   ]
  },
  {
   "cell_type": "markdown",
   "metadata": {},
   "source": [
    "## Implementing EM for GMM"
   ]
  },
  {
   "cell_type": "markdown",
   "metadata": {},
   "source": [
    "For debugging we will use samples from gaussian mixture model with unknown mean, variance and priors. We also added inital values of parameters for grading purposes."
   ]
  },
  {
   "cell_type": "code",
   "execution_count": 4,
   "metadata": {
    "collapsed": false
   },
   "outputs": [
    {
     "data": {
      "image/png": "[encoded data removed]",
      "text/plain": [
       "<matplotlib.figure.Figure at 0x7fc075c19eb8>"
      ]
     },
     "metadata": {},
     "output_type": "display_data"
    }
   ],
   "source": [
    "samples = np.load('samples.npz')\n",
    "X = samples['data']\n",
    "pi0 = samples['pi0']\n",
    "mu0 = samples['mu0']\n",
    "sigma0 = samples['sigma0']\n",
    "plt.scatter(X[:, 0], X[:, 1], c='grey', s=30)\n",
    "plt.axis('equal')\n",
    "plt.show()"
   ]
  },
  {
   "cell_type": "code",
   "execution_count": 5,
   "metadata": {
    "collapsed": false
   },
   "outputs": [],
   "source": [
    "#from IPython.core.interactiveshell import InteractiveShell\n",
    "#InteractiveShell.ast_node_interactivity = \"all\"\n",
    "\n",
    "#print(X.shape)\n",
    "#print(pi0.shape)\n",
    "#print(mu0.shape)\n",
    "#print(mu0)\n",
    "#set_trace()\n",
    "#sigma0\n",
    "\n",
    "#?np.log"
   ]
  },
  {
   "cell_type": "markdown",
   "metadata": {},
   "source": [
    "### Reminder"
   ]
  },
  {
   "cell_type": "markdown",
   "metadata": {},
   "source": [
    "Remember, that EM algorithm is a coordinate descent optimization of variational lower bound $\\mathcal{L}(\\theta, q) = \\int q(T) \\log\\frac{P(X, T|\\theta)}{q(T)}dT\\to \\max$.\n",
    "\n",
    "<b>E-step</b>:<br>\n",
    "$\\mathcal{L}(\\theta, q) \\to \\max\\limits_{q} \\Leftrightarrow \\mathcal{KL} [q(T) \\,\\|\\, p(T|X, \\theta)] \\to \\min \\limits_{q\\in Q} \\Rightarrow q(T) = p(T|X, \\theta)$<br>\n",
    "<b>M-step</b>:<br> \n",
    "$\\mathcal{L}(\\theta, q) \\to \\max\\limits_{\\theta} \\Leftrightarrow \\mathbb{E}_{q(T)}\\log p(X,T | \\theta) \\to \\max\\limits_{\\theta}$\n",
    "\n",
    "For GMM, $\\theta$ is a set of parameters that consists of mean vectors $\\mu_c$, covariance matrices $\\Sigma_c$ and priors $\\pi_c$ for each component.\n",
    "\n",
    "Latent variables $T$ are indices of components to which each data point is assigned. $T_i$ (cluster index for object $i$) is a binary vector with only one active bit in position corresponding to the true component. For example, if we have $C=3$ components and object $i$ lies in first component, $T_i = [1, 0, 0]$.\n",
    "\n",
    "The joint distribution can be written as follows: $p(T, X \\mid \\theta) =  \\prod\\limits_{i=1}^N p(T_i, X_i \\mid \\theta) = \\prod\\limits_{i=1}^N \\prod\\limits_{c=1}^C [\\pi_c \\mathcal{N}(X_i \\mid \\mu_c, \\Sigma_c)]^{T_{ic}}$."
   ]
  },
  {
   "cell_type": "markdown",
   "metadata": {},
   "source": [
    "### E-step\n",
    "In this step we need to estimate the posterior distribution over the latent variables with fixed values of parameters: $q(T) = p(T|X, \\theta)$. We will assume that $T_i$ (cluster index for object $i$) is a binary vector with only one '1' in position corresponding to the true component. To do so we need to compute $\\gamma_{ic} = P(T_{ic} = 1 \\mid X, \\theta)$. Note that $\\sum\\limits_{c=1}^C\\gamma_{ic}=1$.\n"
   ]
  },
  {
   "cell_type": "markdown",
   "metadata": {},
   "source": [
    "<b>Important trick 1:</b> It is important to avoid numerical errors. At some point you will have to compute the formula of the following form: $\\frac{e^{x_i}}{\\sum_j e^{x_j}}$. When you compute exponents of large numbers, you get huge numerical errors (some numbers will simply become infinity). You can avoid this by dividing numerator and denominator by $e^{\\max(x)}$: $\\frac{e^{x_i-\\max(x)}}{\\sum_j e^{x_j - \\max(x)}}$. After this transformation maximum value in the denominator will be equal to one. All other terms will contribute smaller values. This trick is called log-sum-exp. So, to compute desired formula you first subtract maximum value from each component in vector $X$ and then compute everything else as before.\n",
    "\n",
    "<b>Important trick 2:</b> You will probably need to compute formula of the form $A^{-1}x$ at some point. You would normally inverse $A$ and then multiply it by $x$. A bit faster and more numerically accurate way to do this is to solve the equation $Ay = x$. Its solution is $y=A^{-1}x$, but the equation $Ay = x$ can be solved by Gaussian elimination procedure. You can use ```np.linalg.solve``` for this.\n",
    "\n",
    "<b>Other usefull functions: </b> <a href=\"https://docs.scipy.org/doc/numpy/reference/generated/numpy.linalg.slogdet.html\">```slogdet```</a> and <a href=\"https://docs.scipy.org/doc/numpy/reference/generated/numpy.linalg.det.html#numpy.linalg.det\">```det```</a>"
   ]
  },
  {
   "cell_type": "markdown",
   "metadata": {},
   "source": [
    "<b>Task 1:</b> Implement E-step for GMM using template below."
   ]
  },
  {
   "cell_type": "code",
   "execution_count": 6,
   "metadata": {
    "collapsed": true
   },
   "outputs": [],
   "source": [
    "def E_step(X, pi, mu, sigma):\n",
    "    \"\"\"\n",
    "    Performs E-step on GMM model\n",
    "    Each input is numpy array:\n",
    "    X: (N x d), data points\n",
    "    pi: (C), mixture component weights \n",
    "    mu: (C x d), mixture component means\n",
    "    sigma: (C x d x d), mixture component covariance matrices\n",
    "    \n",
    "    Returns:\n",
    "    gamma: (N x C), probabilities of clusters for objects\n",
    "    \"\"\"\n",
    "    N = X.shape[0] # number of objects\n",
    "    C = pi.shape[0] # number of clusters\n",
    "    d = mu.shape[1] # dimension of each object\n",
    "    gamma = np.zeros((N, C)) # distribution q(T)\n",
    "\n",
    "    ### YOUR CODE HERE:    \n",
    "    for c in range(0, C):\n",
    "        gamma[:,c] = pi[c] * mvnorm.pdf(X, mean=mu[c], cov=sigma[c])\n",
    "    for n in range(0, N):\n",
    "        gamma[n,:] = gamma[n,:] / np.sum(gamma[n,:])\n",
    "    \n",
    "    return gamma"
   ]
  },
  {
   "cell_type": "code",
   "execution_count": 7,
   "metadata": {
    "collapsed": false
   },
   "outputs": [
    {
     "name": "stdout",
     "output_type": "stream",
     "text": [
      "Current answer for task Task 1 (E-step) is: 0.533717874108\n"
     ]
    }
   ],
   "source": [
    "gamma = E_step(X, pi0, mu0, sigma0)\n",
    "grader.submit_e_step(gamma)\n"
   ]
  },
  {
   "cell_type": "markdown",
   "metadata": {},
   "source": [
    "### M-step\n",
    "\n",
    "In M-step we need to maximize $\\mathbb{E}_{q(T)}\\log p(X,T | \\theta)$ with respect to $\\theta$. In our model this means that we need to find optimal values of $\\pi$, $\\mu$, $\\Sigma$. To do so, you need to compute the derivatives and \n",
    "set them to zero. You should start by deriving formulas for $\\mu$ as it is the easiest part. Then move on to $\\Sigma$. Here it is crucial to optimize function w.r.t. to $\\Lambda = \\Sigma^{-1}$ and then inverse obtained result. Finaly, to compute $\\pi$, you will need <a href=\"https://www3.nd.edu/~jstiver/FIN360/Constrained%20Optimization.pdf\">Lagrange Multipliers technique</a> to satisfy constraint $\\sum\\limits_{i=1}^{n}\\pi_i = 1$.\n",
    "\n",
    "<br>\n",
    "<b>Important note:</b> You will need to compute derivatives of scalars with respect to matrices. To refresh this technique from previous courses, see <a href=\"https://en.wikipedia.org/wiki/Matrix_calculus\"> wiki article</a> about it . Main formulas of matrix derivatives can be found in <a href=\"http://www2.imm.dtu.dk/pubdb/views/edoc_download.php/3274/pdf/imm3274.pdf\">Chapter 2 of The Matrix Cookbook</a>. For example, there you may find that $\\frac{\\partial}{\\partial A}\\log |A| = A^{-T}$.\n"
   ]
  },
  {
   "cell_type": "markdown",
   "metadata": {},
   "source": [
    "<b>Task 2:</b> Implement M-step for GMM using template below."
   ]
  },
  {
   "cell_type": "code",
   "execution_count": 8,
   "metadata": {
    "collapsed": false
   },
   "outputs": [],
   "source": [
    "def M_step(X, gamma):\n",
    "    \"\"\"\n",
    "    Performs M-step on GMM model\n",
    "    Each input is numpy array:\n",
    "    X: (N x d), data points\n",
    "    gamma: (N x C), distribution q(T)  \n",
    "    \n",
    "    Returns:\n",
    "    pi: (C)\n",
    "    mu: (C x d)\n",
    "    sigma: (C x d x d)\n",
    "    \"\"\"\n",
    "    N = X.shape[0] # number of objects\n",
    "    C = gamma.shape[1] # number of clusters\n",
    "    d = X.shape[1] # dimension of each object\n",
    "\n",
    "    ### YOUR CODE HERE\n",
    "    N_c=np.sum(gamma,0)\n",
    "    #print(N_c)\n",
    "    \n",
    "    pi = N_c / np.sum(N_c)    \n",
    "    \n",
    "    mu = np.zeros((C,d))\n",
    "    for c in range (0,C):\n",
    "        mu[c] = np.matmul(gamma[:,c], X) / N_c[c]            \n",
    "    \n",
    "    sigma = np.zeros((C,d,d))\n",
    "    for c in range (0,C):\n",
    "        s = np.zeros((d,d))\n",
    "        for n in range (0,N):            \n",
    "            diff = np.asmatrix(X[n]-mu[c])\n",
    "            s += gamma[n,c] * np.matmul(np.transpose(diff), diff)\n",
    "        sigma[c] = s / N_c[c]\n",
    "\n",
    "    return pi, mu, sigma"
   ]
  },
  {
   "cell_type": "code",
   "execution_count": 9,
   "metadata": {
    "collapsed": false
   },
   "outputs": [
    {
     "name": "stdout",
     "output_type": "stream",
     "text": [
      "Current answer for task Task 2 (M-step: mu) is: 2.89939188205\n",
      "Current answer for task Task 2 (M-step: sigma) is: 5.9771052169\n",
      "Current answer for task Task 2 (M-step: pi) is: 0.550762445922\n"
     ]
    }
   ],
   "source": [
    "gamma = E_step(X, pi0, mu0, sigma0)\n",
    "pi, mu, sigma = M_step(X, gamma)\n",
    "#print(pi)\n",
    "#print(np.sum(pi))\n",
    "#print(mu)\n",
    "#print(sigma)\n",
    "grader.submit_m_step(pi, mu, sigma)"
   ]
  },
  {
   "cell_type": "markdown",
   "metadata": {},
   "source": [
    "### Loss function"
   ]
  },
  {
   "cell_type": "markdown",
   "metadata": {},
   "source": [
    "Finally, we need some function to track convergence. We will use variational lower bound $\\mathcal{L}$ for this purpose. We will stop our EM iterations when $\\mathcal{L}$ will saturate. Usually, you will need only about 10-20 iterations to converge. It is also useful to check that this function never decreases during training. If it does, you have a bug in your code.\n",
    "\n",
    "<b>Task 3:</b> Implement a function that will compute $\\mathcal{L}$ using template below.\n",
    "\n",
    "$$\\mathcal{L} = \\sum_{n=1}^{N} \\sum_{k=1}^{K} \\mathbb{E}[z_{n, k}] (\\log \\pi_k + \\log \\mathcal{N}(x_n | \\mu_k, \\sigma_k)) - \\sum_{n=1}^{N} \\sum_{k=1}^{K} \\mathbb{E}[z_{n, k}] \\log \\mathbb{E}[z_{n, k}]$$"
   ]
  },
  {
   "cell_type": "code",
   "execution_count": 26,
   "metadata": {
    "collapsed": false
   },
   "outputs": [],
   "source": [
    "def compute_vlb(X, pi, mu, sigma, gamma):\n",
    "    \"\"\"\n",
    "    Each input is numpy array:\n",
    "    X: (N x d), data points\n",
    "    gamma: (N x C), distribution q(T)  \n",
    "    pi: (C)\n",
    "    mu: (C x d)\n",
    "    sigma: (C x d x d)\n",
    "    \n",
    "    Returns value of variational lower bound\n",
    "    \"\"\"\n",
    "    N = X.shape[0] # number of objects\n",
    "    C = gamma.shape[1] # number of clusters\n",
    "    d = X.shape[1] # dimension of each object\n",
    "\n",
    "    ### YOUR CODE HERE\n",
    "    #print('pi: {}'.format(pi))\n",
    "    eps = 0.0000000001\n",
    "    loss = 0\n",
    "    for c in range (0,C):\n",
    "        #set_trace()\n",
    "        #print('c: {}'.format(c))\n",
    "        p_X = mvnorm.pdf(X, mean=mu[c], cov=sigma[c])\n",
    "        #print('Zeros in p_X: {}'.format(np.sum(p_X == 0)))\n",
    "        p_X[p_X == 0] = eps\n",
    "        loss += np.matmul(gamma[:,c], np.log(p_X) + np.log(pi[c]))\n",
    "        \n",
    "        #print('Zeros in gamma_c: {}'.format(np.sum(gamma[:,c] == 0)))\n",
    "        masked_gamma_c = np.ma.masked_array(gamma[:,c], gamma[:,c] == 0)                \n",
    "        loss -= np.sum(gamma[:,c] * np.ma.log(masked_gamma_c).filled(0))\n",
    "    return loss"
   ]
  },
  {
   "cell_type": "code",
   "execution_count": 27,
   "metadata": {
    "collapsed": false
   },
   "outputs": [
    {
     "name": "stdout",
     "output_type": "stream",
     "text": [
      "Current answer for task Task 3 (VLB) is: -1213.97346431\n"
     ]
    }
   ],
   "source": [
    "pi, mu, sigma = pi0, mu0, sigma0\n",
    "gamma = E_step(X, pi, mu, sigma)\n",
    "pi, mu, sigma = M_step(X, gamma)\n",
    "loss = compute_vlb(X, pi, mu, sigma, gamma)\n",
    "grader.submit_VLB(loss)"
   ]
  },
  {
   "cell_type": "markdown",
   "metadata": {},
   "source": [
    "### Bringing it all together"
   ]
  },
  {
   "cell_type": "markdown",
   "metadata": {},
   "source": [
    "Now that we have E step, M step and VLB, we can implement training loop. We will start at random values of $\\pi$, $\\mu$ and $\\Sigma$, train until $\\mathcal{L}$ stops changing and return the resulting points. We also know that EM algorithm sometimes stops at local optima. To avoid this we should restart algorithm multiple times from different starting positions. Each training trial should stop either when maximum number of iterations is reached or when relative improvement is smaller than given tolerance ($|\\frac{\\mathcal{L}_i-\\mathcal{L}_{i-1}}{\\mathcal{L}_{i-1}}| \\le \\text{rtol}$).\n",
    "\n",
    "Remember, that values of $\\pi$ that you generate must be non-negative and sum up to 1. Also, $\\Sigma$ matrices must be symmetric and positive semi-definite. If you don't know how to generate those matrices, you can use $\\Sigma=I$ as initialization.\n",
    "\n",
    "You will also sometimes get numerical errors because of component collapsing. The easiest way to deal with this problems is to simply restart the procedure.\n",
    "\n",
    "<b>Task 4:</b> Implement training procedure"
   ]
  },
  {
   "cell_type": "code",
   "execution_count": 30,
   "metadata": {
    "collapsed": false
   },
   "outputs": [],
   "source": [
    "from sklearn.datasets import make_spd_matrix\n",
    "\n",
    "def train_EM(X, C, rtol=1e-3, max_iter=100, restarts=10):\n",
    "    '''\n",
    "    Starts with random initialization *restarts* times\n",
    "    Runs optimization until saturation with *rtol* reached\n",
    "    or *max_iter* iterations were made.\n",
    "    \n",
    "    X: (N, d), data points\n",
    "    C: int, number of clusters\n",
    "    '''\n",
    "    N = X.shape[0] # number of objects\n",
    "    d = X.shape[1] # dimension of each object\n",
    "    best_loss = None\n",
    "    best_pi = None\n",
    "    best_mu = None\n",
    "    best_sigma = None\n",
    "\n",
    "    for r in range(restarts):\n",
    "        print('Restart: {}'.format(r))\n",
    "        try:\n",
    "            ### YOUR CODE HERE\n",
    "            pi, mu, sigma = pi0, mu0, sigma0            \n",
    "            pi = np.random.dirichlet(np.ones(C)/2.,size=1).reshape(C)\n",
    "            mu = np.random.random((C,d))\n",
    "            sigma = np.asarray([make_spd_matrix(d) for i in range(C)])            \n",
    "            old_loss = None\n",
    "            for i in range(max_iter):\n",
    "                gamma = E_step(X, pi, mu, sigma)\n",
    "                pi, mu, sigma = M_step(X, gamma)\n",
    "                new_loss = compute_vlb(X, pi, mu, sigma, gamma)\n",
    "                print('    iter {} loss: {}'.format(i, new_loss))\n",
    "                if old_loss is None:\n",
    "                    old_loss = new_loss\n",
    "                else:\n",
    "                    if old_loss > new_loss:\n",
    "                        #print('Loss decreased')\n",
    "                        raise Exception('Loss decreased')\n",
    "                    tol = np.abs((new_loss - old_loss)/old_loss)\n",
    "                    old_loss = new_loss\n",
    "                    if tol <= rtol:\n",
    "                        break\n",
    "            if best_loss is None or old_loss > best_loss:\n",
    "                best_loss = old_loss\n",
    "                print('Best_loss: {}'.format(best_loss))\n",
    "                best_pi = pi\n",
    "                best_mu = mu\n",
    "                best_sigma = sigma\n",
    "                \n",
    "        except np.linalg.LinAlgError:\n",
    "            print(\"Singular matrix: components collapsed\")\n",
    "            pass\n",
    "\n",
    "    return best_loss, best_pi, best_mu, best_sigma"
   ]
  },
  {
   "cell_type": "code",
   "execution_count": 31,
   "metadata": {
    "collapsed": false
   },
   "outputs": [
    {
     "name": "stdout",
     "output_type": "stream",
     "text": [
      "Restart: 0\n",
      "    iter 0 loss: -1180.3001419454326\n",
      "    iter 1 loss: -1149.2363788529367\n",
      "    iter 2 loss: -1137.9313754252478\n",
      "    iter 3 loss: -1127.3821008617347\n",
      "    iter 4 loss: -1120.0664134458516\n",
      "    iter 5 loss: -1115.383126143631\n",
      "    iter 6 loss: -1112.359246329508\n",
      "    iter 7 loss: -1110.2794145845778\n",
      "    iter 8 loss: -1108.594334354361\n",
      "    iter 9 loss: -1106.7155284264084\n",
      "    iter 10 loss: -1103.7226980346402\n",
      "    iter 11 loss: -1098.7184834818252\n",
      "    iter 12 loss: -1092.7917298807401\n",
      "    iter 13 loss: -1087.9317305214984\n",
      "    iter 14 loss: -1083.564583807119\n",
      "    iter 15 loss: -1079.2335285999416\n",
      "    iter 16 loss: -1074.9403475846211\n",
      "    iter 17 loss: -1071.0244661732106\n",
      "    iter 18 loss: -1067.9377914114757\n",
      "    iter 19 loss: -1065.9151987204127\n",
      "    iter 20 loss: -1064.8049772419563\n",
      "    iter 21 loss: -1064.2661323356908\n",
      "Best_loss: -1064.2661323356908\n",
      "Restart: 1\n",
      "    iter 0 loss: -1176.214673770482\n",
      "    iter 1 loss: -1161.0988071918068\n",
      "    iter 2 loss: -1159.9845411013528\n",
      "Restart: 2\n",
      "    iter 0 loss: -1203.0292071639765\n",
      "    iter 1 loss: -1170.7102954231989\n",
      "    iter 2 loss: -1164.5931718705256\n",
      "    iter 3 loss: -1157.9162270774923\n",
      "    iter 4 loss: -1151.7831013275218\n",
      "    iter 5 loss: -1146.7072415276723\n",
      "    iter 6 loss: -1141.4706179501775\n",
      "    iter 7 loss: -1136.1557089196729\n",
      "    iter 8 loss: -1131.3538929532149\n",
      "    iter 9 loss: -1126.1912823637226\n",
      "    iter 10 loss: -1122.0872711104673\n",
      "    iter 11 loss: -1120.0213388093027\n",
      "    iter 12 loss: -1119.186889471611\n",
      "Restart: 3\n",
      "    iter 0 loss: -1192.3647597946765\n",
      "    iter 1 loss: -1157.6413385707685\n",
      "    iter 2 loss: -1147.0255722547208\n",
      "    iter 3 loss: -1137.5327883107973\n",
      "    iter 4 loss: -1124.4048614178444\n",
      "    iter 5 loss: -1110.9781085693323\n",
      "    iter 6 loss: -1104.1805323446172\n",
      "    iter 7 loss: -1101.607838921438\n",
      "    iter 8 loss: -1100.072998193291\n",
      "    iter 9 loss: -1098.8174752820735\n",
      "    iter 10 loss: -1097.5973037705596\n",
      "    iter 11 loss: -1096.261186800294\n",
      "    iter 12 loss: -1094.6776461620104\n",
      "    iter 13 loss: -1092.6722164210587\n",
      "    iter 14 loss: -1089.9012465527958\n",
      "    iter 15 loss: -1085.9501634921164\n",
      "    iter 16 loss: -1081.093205616439\n",
      "    iter 17 loss: -1075.058918984368\n",
      "    iter 18 loss: -1066.5044299747574\n",
      "    iter 19 loss: -1064.127364480703\n",
      "    iter 20 loss: -1063.8997940449447\n",
      "Best_loss: -1063.8997940449447\n",
      "Restart: 4\n",
      "    iter 0 loss: -1241.1037435316277\n",
      "    iter 1 loss: -1219.534331008312\n",
      "    iter 2 loss: -1213.0549432203613\n",
      "    iter 3 loss: -1207.2021232784023\n",
      "    iter 4 loss: -1197.233100524019\n",
      "    iter 5 loss: -1179.4554854120686\n",
      "    iter 6 loss: -1163.7422138234085\n",
      "    iter 7 loss: -1159.8866904345593\n",
      "    iter 8 loss: -1159.5338734414613\n",
      "Restart: 5\n",
      "    iter 0 loss: -1201.7668238910771\n",
      "    iter 1 loss: -1160.6591466247096\n",
      "    iter 2 loss: -1130.4318099349452\n",
      "    iter 3 loss: -1108.0375780559532\n",
      "    iter 4 loss: -1096.110724929456\n",
      "    iter 5 loss: -1089.163853400494\n",
      "    iter 6 loss: -1083.478915914459\n",
      "    iter 7 loss: -1078.4139089409146\n",
      "    iter 8 loss: -1073.8702846701806\n",
      "    iter 9 loss: -1070.0352935070707\n",
      "    iter 10 loss: -1067.2069799809872\n",
      "    iter 11 loss: -1065.4760121671004\n",
      "    iter 12 loss: -1064.5831182054367\n",
      "Restart: 6\n",
      "    iter 0 loss: -1211.7616798127247\n",
      "    iter 1 loss: -1171.6423089139316\n",
      "    iter 2 loss: -1164.8380287417267\n",
      "    iter 3 loss: -1156.9151310594941\n",
      "    iter 4 loss: -1144.8939009787136\n",
      "    iter 5 loss: -1132.0018026804726\n",
      "    iter 6 loss: -1125.2894173932514\n",
      "    iter 7 loss: -1123.1161099938588\n",
      "    iter 8 loss: -1122.0250022236255\n",
      "Restart: 7\n",
      "    iter 0 loss: -1237.9340174788006\n",
      "    iter 1 loss: -1205.2144477470733\n",
      "    iter 2 loss: -1195.5821970664738\n",
      "    iter 3 loss: -1188.6452767203134\n",
      "    iter 4 loss: -1181.8838726587676\n",
      "    iter 5 loss: -1174.9402005189288\n",
      "    iter 6 loss: -1168.9843554354857\n",
      "    iter 7 loss: -1163.7346826478126\n",
      "    iter 8 loss: -1158.423456831537\n",
      "    iter 9 loss: -1153.0483709879452\n",
      "    iter 10 loss: -1148.1238197928797\n",
      "    iter 11 loss: -1144.2259650885353\n",
      "    iter 12 loss: -1141.4975547067304\n",
      "    iter 13 loss: -1139.3791600208226\n",
      "    iter 14 loss: -1137.088453838625\n",
      "    iter 15 loss: -1134.217603806525\n",
      "    iter 16 loss: -1130.7256170010444\n",
      "    iter 17 loss: -1126.6152665092086\n",
      "    iter 18 loss: -1121.9962296495105\n",
      "    iter 19 loss: -1116.9008342726913\n",
      "    iter 20 loss: -1111.3498721415942\n",
      "    iter 21 loss: -1105.26536599206\n",
      "    iter 22 loss: -1098.3754085830567\n",
      "    iter 23 loss: -1089.9526620559682\n",
      "    iter 24 loss: -1079.0473309314045\n",
      "    iter 25 loss: -1068.2250557636771\n",
      "    iter 26 loss: -1064.3320775164311\n",
      "    iter 27 loss: -1064.0021711823317\n",
      "Restart: 8\n",
      "    iter 0 loss: -1232.904200714389\n",
      "    iter 1 loss: -1196.9791731919545\n",
      "    iter 2 loss: -1181.5338008291164\n",
      "    iter 3 loss: -1170.2832354625593\n",
      "    iter 4 loss: -1164.039439816466\n",
      "    iter 5 loss: -1161.0444125823167\n",
      "    iter 6 loss: -1159.7794907125265\n",
      "    iter 7 loss: -1159.2655609217968\n",
      "Restart: 9\n",
      "    iter 0 loss: -1197.0687471135216\n",
      "    iter 1 loss: -1148.3016571520502\n",
      "    iter 2 loss: -1141.1302196285353\n",
      "    iter 3 loss: -1133.9751560992806\n",
      "    iter 4 loss: -1124.6686525705588\n",
      "    iter 5 loss: -1116.3696974425934\n",
      "    iter 6 loss: -1109.318728433831\n",
      "    iter 7 loss: -1102.9061993049313\n",
      "    iter 8 loss: -1098.6949489629085\n",
      "    iter 9 loss: -1096.0009501064535\n",
      "    iter 10 loss: -1093.4857693666575\n",
      "    iter 11 loss: -1090.3302030724212\n",
      "    iter 12 loss: -1085.759580448912\n",
      "    iter 13 loss: -1079.7547836603915\n",
      "    iter 14 loss: -1071.933089602587\n",
      "    iter 15 loss: -1064.6380512579833\n",
      "    iter 16 loss: -1063.9411758798328\n",
      "Current answer for task Task 4 (EM) is: -1063.89979404\n"
     ]
    }
   ],
   "source": [
    "best_loss, best_pi, best_mu, best_sigma = train_EM(X, 3)\n",
    "grader.submit_EM(best_loss)"
   ]
  },
  {
   "cell_type": "markdown",
   "metadata": {},
   "source": [
    "If you implemented all the steps correctly, your algorithm should converge in about 20 iterations. Let's plot the clusters to see it. We will assign a cluster label as the most probable cluster index. This can be found using matrix $\\gamma$ computed on last E-step. \n"
   ]
  },
  {
   "cell_type": "code",
   "execution_count": 32,
   "metadata": {
    "collapsed": false
   },
   "outputs": [
    {
     "data": {
      "image/png": "[encoded data removed]",
      "text/plain": [
       "<matplotlib.figure.Figure at 0x7fc073081be0>"
      ]
     },
     "metadata": {},
     "output_type": "display_data"
    }
   ],
   "source": [
    "gamma = E_step(X, best_pi, best_mu, best_sigma)\n",
    "labels = gamma.argmax(1)\n",
    "plt.scatter(X[:, 0], X[:, 1], c=labels, s=30)\n",
    "plt.axis('equal')\n",
    "plt.show()"
   ]
  },
  {
   "cell_type": "markdown",
   "metadata": {},
   "source": [
    "### Authorization & Submission\n",
    "To submit assignment parts to Cousera platform, please, enter your e-mail and your token into variables below. You can generate the token on this programming assignment page. <b>Note:</b> Token expires 30 minutes after generation."
   ]
  },
  {
   "cell_type": "code",
   "execution_count": 33,
   "metadata": {
    "collapsed": false
   },
   "outputs": [
    {
     "name": "stdout",
     "output_type": "stream",
     "text": [
      "You want to submit these numbers:\n",
      "Task Task 1 (E-step): 0.533717874108\n",
      "Task Task 2 (M-step: mu): 2.89939188205\n",
      "Task Task 2 (M-step: sigma): 5.9771052169\n",
      "Task Task 2 (M-step: pi): 0.550762445922\n",
      "Task Task 3 (VLB): -1213.97346431\n",
      "Task Task 4 (EM): -1063.89979404\n"
     ]
    }
   ],
   "source": [
    "STUDENT_EMAIL = 'mortennp@hotmail.com'\n",
    "STUDENT_TOKEN = '2P7z70E29jr7GREH'\n",
    "grader.status()"
   ]
  },
  {
   "cell_type": "markdown",
   "metadata": {},
   "source": [
    "If you want to submit these answers, run cell below"
   ]
  },
  {
   "cell_type": "code",
   "execution_count": 34,
   "metadata": {
    "collapsed": false
   },
   "outputs": [
    {
     "name": "stdout",
     "output_type": "stream",
     "text": [
      "Submitted to Coursera platform. See results on assignment page!\n"
     ]
    }
   ],
   "source": [
    "grader.submit(STUDENT_EMAIL, STUDENT_TOKEN)"
   ]
  }
 ],
 "metadata": {
  "anaconda-cloud": {},
  "kernelspec": {
   "display_name": "Python [default]",
   "language": "python",
   "name": "python3"
  },
  "language_info": {
   "codemirror_mode": {
    "name": "ipython",
    "version": 3
   },
   "file_extension": ".py",
   "mimetype": "text/x-python",
   "name": "python",
   "nbconvert_exporter": "python",
   "pygments_lexer": "ipython3",
   "version": "3.5.2"
  },
  "latex_envs": {
   "bibliofile": "biblio.bib",
   "cite_by": "apalike",
   "current_citInitial": 1,
   "eqLabelWithNumbers": true,
   "eqNumInitial": 0
  }
 },
 "nbformat": 4,
 "nbformat_minor": 2
}
